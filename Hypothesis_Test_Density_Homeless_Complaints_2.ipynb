{
 "cells": [
  {
   "cell_type": "code",
   "execution_count": 2,
   "metadata": {
    "collapsed": false,
    "scrolled": true
   },
   "outputs": [
    {
     "name": "stdout",
     "output_type": "stream",
     "text": [
      "Populating the interactive namespace from numpy and matplotlib\n"
     ]
    }
   ],
   "source": [
    "import pandas as pd\n",
    "import geopandas as gpd\n",
    "import numpy as np\n",
    "from shapely.geometry import Point, Polygon\n",
    "import pylab as pl\n",
    "%pylab inline\n",
    "import rtree\n",
    "import scipy.stats as stats\n",
    "import seaborn\n",
    "from fiona.crs import from_epsg"
   ]
  },
  {
   "cell_type": "markdown",
   "metadata": {},
   "source": [
    "## 1. 311 Homeless Complaints Data"
   ]
  },
  {
   "cell_type": "code",
   "execution_count": 4,
   "metadata": {
    "collapsed": false
   },
   "outputs": [],
   "source": [
    "df = pd.read_csv(\"311_Homeless_2013_2016.csv\")\n",
    "df = df.loc[:,['Created Date', 'Incident Zip', 'City', 'Borough', 'Latitude', 'Longitude']]\n",
    "df = df.dropna(subset=['Latitude', 'Longitude'])\n",
    "#df = df.dropna().shape"
   ]
  },
  {
   "cell_type": "code",
   "execution_count": 5,
   "metadata": {
    "collapsed": false
   },
   "outputs": [
    {
     "data": {
      "text/html": [
       "<div>\n",
       "<table border=\"1\" class=\"dataframe\">\n",
       "  <thead>\n",
       "    <tr style=\"text-align: right;\">\n",
       "      <th></th>\n",
       "      <th>Created Date</th>\n",
       "      <th>Incident Zip</th>\n",
       "      <th>City</th>\n",
       "      <th>Borough</th>\n",
       "      <th>Latitude</th>\n",
       "      <th>Longitude</th>\n",
       "      <th>geometry</th>\n",
       "    </tr>\n",
       "  </thead>\n",
       "  <tbody>\n",
       "    <tr>\n",
       "      <th>0</th>\n",
       "      <td>08/24/2016 10:52:00 AM</td>\n",
       "      <td>10023.0</td>\n",
       "      <td>NEW YORK</td>\n",
       "      <td>MANHATTAN</td>\n",
       "      <td>40.769157</td>\n",
       "      <td>-73.982429</td>\n",
       "      <td>POINT (-73.98242917087232 40.76915732305014)</td>\n",
       "    </tr>\n",
       "    <tr>\n",
       "      <th>1</th>\n",
       "      <td>08/25/2016 08:36:59 AM</td>\n",
       "      <td>10009.0</td>\n",
       "      <td>NEW YORK</td>\n",
       "      <td>MANHATTAN</td>\n",
       "      <td>40.728159</td>\n",
       "      <td>-73.982956</td>\n",
       "      <td>POINT (-73.98295592150251 40.7281590982977)</td>\n",
       "    </tr>\n",
       "  </tbody>\n",
       "</table>\n",
       "</div>"
      ],
      "text/plain": [
       "             Created Date  Incident Zip      City    Borough   Latitude  \\\n",
       "0  08/24/2016 10:52:00 AM       10023.0  NEW YORK  MANHATTAN  40.769157   \n",
       "1  08/25/2016 08:36:59 AM       10009.0  NEW YORK  MANHATTAN  40.728159   \n",
       "\n",
       "   Longitude                                      geometry  \n",
       "0 -73.982429  POINT (-73.98242917087232 40.76915732305014)  \n",
       "1 -73.982956   POINT (-73.98295592150251 40.7281590982977)  "
      ]
     },
     "execution_count": 5,
     "metadata": {},
     "output_type": "execute_result"
    }
   ],
   "source": [
    "#df = pd.read_csv(\"311_2015.csv\")\n",
    "#df = df.dropna() #important!!! especially for col = Lon & Lat\n",
    "#print df.shape\n",
    "\n",
    "# make sure 'Lon-Lat' are numeric variable\n",
    "type(df.Latitude.values[0])\n",
    "df['geometry'] = df.apply(lambda row: Point(row['Longitude'], row['Latitude']), axis=1)\n",
    "\n",
    "# Following code is another way to create 'geometry':\n",
    "# geometry = gpd.GeoSeries([Point(xy) for xy in zip(df.Longitude, df.Latitude)])\n",
    "\n",
    "gdf = gpd.GeoDataFrame(df, geometry=df['geometry'])\n",
    "# set coordinate system\n",
    "gdf.crs = {\"init\": \"epsg:4326\"}\n",
    "gdf.head(2)"
   ]
  },
  {
   "cell_type": "code",
   "execution_count": 5,
   "metadata": {
    "collapsed": true
   },
   "outputs": [],
   "source": [
    "# gdf.to_file(\"311complaints\")"
   ]
  },
  {
   "cell_type": "markdown",
   "metadata": {},
   "source": [
    "## 2. Drop-In Centers Data"
   ]
  },
  {
   "cell_type": "markdown",
   "metadata": {},
   "source": [
    "#### 24-HOUR DROP-IN CENTERS FOR ADULTS : http://www1.nyc.gov/assets/dhs/downloads/pdf/intake_drop_in_centers.pdf"
   ]
  },
  {
   "cell_type": "code",
   "execution_count": 24,
   "metadata": {
    "collapsed": false
   },
   "outputs": [
    {
     "data": {
      "text/html": [
       "<div>\n",
       "<table border=\"1\" class=\"dataframe\">\n",
       "  <thead>\n",
       "    <tr style=\"text-align: right;\">\n",
       "      <th></th>\n",
       "      <th>Address</th>\n",
       "      <th>Name</th>\n",
       "      <th>Zipcode</th>\n",
       "      <th>geometry</th>\n",
       "    </tr>\n",
       "  </thead>\n",
       "  <tbody>\n",
       "    <tr>\n",
       "      <th>0</th>\n",
       "      <td>120 East 32nd St. in East Midtown</td>\n",
       "      <td>Mainchance</td>\n",
       "      <td>10016</td>\n",
       "      <td>POINT (-73.9814622 40.7452285)</td>\n",
       "    </tr>\n",
       "    <tr>\n",
       "      <th>1</th>\n",
       "      <td>800 Barretto St., Bronx</td>\n",
       "      <td>The Living Room</td>\n",
       "      <td>10474</td>\n",
       "      <td>POINT (-73.8916751 40.8168537)</td>\n",
       "    </tr>\n",
       "    <tr>\n",
       "      <th>2</th>\n",
       "      <td>257 West 30th St. near Penn Station</td>\n",
       "      <td>Olivieri Center</td>\n",
       "      <td>10001</td>\n",
       "      <td>POINT (-73.99661469999999 40.7495275)</td>\n",
       "    </tr>\n",
       "    <tr>\n",
       "      <th>3</th>\n",
       "      <td>2402 Atlantic Ave. in Brooklyn</td>\n",
       "      <td>The Gathering Place</td>\n",
       "      <td>11233</td>\n",
       "      <td>POINT (-73.90751590000001 40.6757497)</td>\n",
       "    </tr>\n",
       "    <tr>\n",
       "      <th>4</th>\n",
       "      <td>25 Central Ave. in Staten Island</td>\n",
       "      <td>Project Hospitality</td>\n",
       "      <td>10301</td>\n",
       "      <td>POINT (-74.0787456 40.641182)</td>\n",
       "    </tr>\n",
       "  </tbody>\n",
       "</table>\n",
       "</div>"
      ],
      "text/plain": [
       "                               Address                 Name Zipcode  \\\n",
       "0    120 East 32nd St. in East Midtown           Mainchance   10016   \n",
       "1              800 Barretto St., Bronx      The Living Room   10474   \n",
       "2  257 West 30th St. near Penn Station      Olivieri Center   10001   \n",
       "3       2402 Atlantic Ave. in Brooklyn  The Gathering Place   11233   \n",
       "4     25 Central Ave. in Staten Island  Project Hospitality   10301   \n",
       "\n",
       "                                geometry  \n",
       "0         POINT (-73.9814622 40.7452285)  \n",
       "1         POINT (-73.8916751 40.8168537)  \n",
       "2  POINT (-73.99661469999999 40.7495275)  \n",
       "3  POINT (-73.90751590000001 40.6757497)  \n",
       "4          POINT (-74.0787456 40.641182)  "
      ]
     },
     "execution_count": 24,
     "metadata": {},
     "output_type": "execute_result"
    }
   ],
   "source": [
    "# Tips: {\"Name\": [list]}\n",
    "dropin = gpd.GeoDataFrame({\"Name\": ['Mainchance'], \"Address\": [\"120 East 32nd St. in East Midtown\"], \"Zipcode\": [\"10016\"], \n",
    "          \"geometry\": [Point(-73.9814622, 40.7452285)]}, geometry = 'geometry') \n",
    "dropin = dropin.append(gpd.GeoDataFrame({\"Name\": ['The Living Room'] ,\"Address\": [\"800 Barretto St., Bronx\"], \n",
    "                                \"Zipcode\": [\"10474\"], \"geometry\": [Point(-73.8916751, 40.8168537)]}, \n",
    "                               geometry = 'geometry'))\n",
    "dropin = dropin.append(gpd.GeoDataFrame({\"Name\": ['Olivieri Center'], \"Address\": [\"257 West 30th St. near Penn Station\"], \n",
    "                                \"Zipcode\": [\"10001\"], \"geometry\": [Point(-73.9966147, 40.7495275)]}, \n",
    "                               geometry = 'geometry'))\n",
    "dropin = dropin.append(gpd.GeoDataFrame({\"Name\": ['The Gathering Place'], \"Address\": [\"2402 Atlantic Ave. in Brooklyn\"], \n",
    "                                \"Zipcode\": [\"11233\"], \"geometry\": [Point(-73.9075159, 40.6757497)]}, \n",
    "                               geometry = 'geometry'))\n",
    "dropin = dropin.append(gpd.GeoDataFrame({\"Name\": ['Project Hospitality'], \"Address\": [\"25 Central Ave. in Staten Island\"], \n",
    "                                \"Zipcode\": [\"10301\"], \"geometry\": [Point(-74.0787456, 40.641182)]}, \n",
    "                               geometry = 'geometry'))\n",
    "dropin.crs = {\"init\": \"epsg:4326\"}\n",
    "dropin = dropin.reset_index(drop = True)\n",
    "dropin"
   ]
  },
  {
   "cell_type": "markdown",
   "metadata": {},
   "source": [
    "## 3. Ring & Buffer Density"
   ]
  },
  {
   "cell_type": "markdown",
   "metadata": {},
   "source": [
    "### Functions"
   ]
  },
  {
   "cell_type": "code",
   "execution_count": 17,
   "metadata": {
    "collapsed": true
   },
   "outputs": [],
   "source": [
    "# 1. ring-buffer\n",
    "def circles(radius, df):\n",
    "    '''\n",
    "    radius: list\n",
    "    df: df with geometry 'Polygon'\n",
    "    return: Circles not Rings, eg. b['0.001']\n",
    "    '''\n",
    "    b = {}\n",
    "    for r in radius:\n",
    "        temp = df.copy()\n",
    "        temp['geometry'] = temp.buffer(r)\n",
    "        temp.crs = from_epsg(4326)\n",
    "        name = str(r) \n",
    "        b[name] = temp\n",
    "    return b \n",
    "\n",
    "# 2. sjoin: (Polygon, Points) - counts\n",
    "def circleSJoin(radius, b, df_points):\n",
    "    '''\n",
    "    b: circles (buffer)\n",
    "    df_points: df with geometry \"Points\"\n",
    "    return: Circle not Ring with # of Points in each, eg. b_sjoin['0.001']\n",
    "    '''\n",
    "    c_sjoin = {}\n",
    "    for i, r in enumerate(b):\n",
    "        name = str(radius[i])\n",
    "        temp = b[name].copy()\n",
    "        temp.crs = df_points.crs\n",
    "        c_sjoin[name] = gpd.sjoin(temp, df_points)\n",
    "    return c_sjoin \n",
    "\n",
    "# 3. ringDensity\n",
    "def Density(radius, circles, c_sjoin, shape):\n",
    "    rAreas = {}\n",
    "    rCounts = {}\n",
    "    rDesity = {} \n",
    "    rCounts_list = []\n",
    "    rDesity_list = []\n",
    "    for i in xrange(len(radius)):\n",
    "        name = str(radius[i])\n",
    "        if shape == 'ring':\n",
    "            if i == 0:\n",
    "                rAreas[name] = circles[name].area.sum()\n",
    "                rCounts[name] = c_sjoin[name].shape[0] \n",
    "            else:\n",
    "                inside= str(radius[i-1])\n",
    "                rAreas[name] = circles[name].area.sum() - circles[inside].area.sum()\n",
    "                rCounts[name] = c_sjoin[name].shape[0] - c_sjoin[inside].shape[0]\n",
    "        elif shape == 'circle':\n",
    "            rAreas[name] = circles[name].area.sum()\n",
    "            rCounts[name] = c_sjoin[name].shape[0] \n",
    "            \n",
    "        rDesity[name] = rCounts[name] / rAreas[name]\n",
    "        rCounts_list.append(rCounts[name])\n",
    "        rDesity_list.append(rDesity[name])\n",
    "    return rDesity, rCounts, rAreas, rDesity_list, rCounts_list\n",
    "\n",
    "# 4\n",
    "def ringDensity(radius, df_polygon, df_point):\n",
    "    c = circles(radius, df_polygon)\n",
    "    bs = circleSJoin(radius, c, df_point)\n",
    "    density, count, area, density_list, count_list = Density(radius, c, bs, 'ring')\n",
    "    return density, count, area, density_list, count_list  \n",
    "\n",
    "#5\n",
    "def circleDensity(radius, df_polygon, df_point):\n",
    "    c = circles(radius, df_polygon)\n",
    "    bs = circleSJoin(radius, c, df_point)\n",
    "    density, count, area, density_list, count_list = Density(radius, c, bs, 'circle')\n",
    "    return density, count, area, density_list, count_list  \n",
    "\n",
    "#6\n",
    "def feet2meter(feet):\n",
    "    meter=[]\n",
    "    for i in xrange(len(feet)):\n",
    "        meter.append(feet[i] * 0.30480061)\n",
    "    print \"Feet: \", feet\n",
    "    print \"Meter: \", meter"
   ]
  },
  {
   "cell_type": "markdown",
   "metadata": {},
   "source": [
    "\n",
    "### Change CRS"
   ]
  },
  {
   "cell_type": "code",
   "execution_count": 50,
   "metadata": {
    "collapsed": false
   },
   "outputs": [
    {
     "data": {
      "text/html": [
       "<div>\n",
       "<table border=\"1\" class=\"dataframe\">\n",
       "  <thead>\n",
       "    <tr style=\"text-align: right;\">\n",
       "      <th></th>\n",
       "      <th>Address</th>\n",
       "      <th>Name</th>\n",
       "      <th>Zipcode</th>\n",
       "      <th>geometry</th>\n",
       "    </tr>\n",
       "  </thead>\n",
       "  <tbody>\n",
       "    <tr>\n",
       "      <th>1</th>\n",
       "      <td>800 Barretto St., Bronx</td>\n",
       "      <td>The Living Room</td>\n",
       "      <td>10474</td>\n",
       "      <td>POINT (1014233.762709922 236897.5048751206)</td>\n",
       "    </tr>\n",
       "  </tbody>\n",
       "</table>\n",
       "</div>"
      ],
      "text/plain": [
       "                   Address             Name Zipcode  \\\n",
       "1  800 Barretto St., Bronx  The Living Room   10474   \n",
       "\n",
       "                                      geometry  \n",
       "1  POINT (1014233.762709922 236897.5048751206)  "
      ]
     },
     "execution_count": 50,
     "metadata": {},
     "output_type": "execute_result"
    }
   ],
   "source": [
    "dropin2 = dropin.copy()\n",
    "gdf2 = gdf.copy()\n",
    "dropin2 = dropin2.to_crs(epsg=2263) #US Feet -> 1 feet = 0.30480061 meter\n",
    "gdf2 = gdf2.to_crs(epsg=2263)\n",
    "dropin2 = dropin2.ix[[1]]\n",
    "dropin2"
   ]
  },
  {
   "cell_type": "code",
   "execution_count": 52,
   "metadata": {
    "collapsed": false
   },
   "outputs": [
    {
     "name": "stdout",
     "output_type": "stream",
     "text": [
      "Feet:  [250, 375, 500, 625, 750, 1000, 1250, 1500]\n",
      "Meter:  [76.2001525, 114.30022875000002, 152.400305, 190.50038125, 228.60045750000003, 304.80061, 381.0007625, 457.20091500000007]\n",
      "Ring \n",
      "\n",
      "{'750': 0, '625': 2, '1500': 12, '1250': 6, '250': 2, '375': 0, '500': 4, '1000': 5} \n",
      "\n",
      "{'750': 539094.2718126003, '625': 441077.13148305484, '1500': 2156377.0872502485, '1250': 1764308.5259320983, '250': 196034.28065913534, '375': 245042.85082389673, '500': 343059.99115344434, '1000': 1372239.964613789} \n",
      "\n",
      "{'750': 0.0, '625': 4.5343543277233706e-06, '1500': 5.564889402206579e-06, '1250': 3.4007657457927617e-06, '250': 1.0202297237377593e-05, '375': 0.0, '500': 1.1659768271290122e-05, '1000': 3.643677584778132e-06} \n",
      "\n",
      "[1.0202297237377593e-05, 0.0, 1.1659768271290122e-05, 4.5343543277233706e-06, 0.0, 3.643677584778132e-06, 3.4007657457927617e-06, 5.564889402206579e-06] \n",
      "\n",
      "[2, 0, 4, 2, 0, 5, 6, 12] \n",
      "\n",
      "Circle \n",
      "\n",
      "{'750': 8, '625': 8, '1500': 31, '1250': 19, '250': 2, '375': 2, '500': 6, '1000': 13} \n",
      "\n",
      "{'750': 1764308.5259321316, '625': 1225214.2541195313, '1500': 7057234.103728267, '1250': 4900857.016478019, '250': 196034.28065913534, '375': 441077.1314830321, '500': 784137.1226364764, '1000': 3136548.4905459206} \n",
      "\n",
      "{'750': 4.534354327723597e-06, '625': 6.529470231922003e-06, '1500': 4.392655754982395e-06, '1250': 3.876872950203774e-06, '250': 1.0202297237377593e-05, '375': 4.534354327723605e-06, '500': 7.651722928033827e-06, '1000': 4.14468325268497e-06} \n",
      "\n",
      "[1.0202297237377593e-05, 4.534354327723605e-06, 7.651722928033827e-06, 6.529470231922003e-06, 4.534354327723597e-06, 4.14468325268497e-06, 3.876872950203774e-06, 4.392655754982395e-06] \n",
      "\n",
      "[2, 2, 6, 8, 8, 13, 19, 31] \n",
      "\n"
     ]
    },
    {
     "data": {
      "text/plain": [
       "<matplotlib.text.Text at 0x1220f1dd0>"
      ]
     },
     "execution_count": 52,
     "metadata": {},
     "output_type": "execute_result"
    },
    {
     "data": {
      "image/png": "[encoded data removed]",
      "text/plain": [
       "<matplotlib.figure.Figure at 0x11a6695d0>"
      ]
     },
     "metadata": {},
     "output_type": "display_data"
    }
   ],
   "source": [
    "# # Length of 20 Blocks = 1 miles \n",
    "# => \n",
    "# 1 blocks = 0.05 mile = 0.05 $*$ 5280 feet = 264 feet \n",
    "# set Length of 1 block = 250 feet\n",
    "\n",
    "#radius2 = [ 150, 200, 250, 300, 350, 400, 450, 500, 550, 600, 650, 700, 750]#, 1000, 1250, 1500, 1750, 2000, 2250, 2500]\n",
    "radius2 = [ 250, 375, 500, 625, 750, 1000, 1250, 1500]#, 1750, 2000, 2250, 2500]\n",
    "#radius2 = np.linspace(250, 1500, 12)\n",
    "#radius2=r\n",
    "\n",
    "feet2meter(radius2)\n",
    "\n",
    "c2_density, c2_count, c2_area, c2_density_list, c2_count_list  = circleDensity(radius2, dropin2, gdf2)\n",
    "r2_density, r2_count, r2_area, r2_density_list, r2_count_list  = ringDensity(radius2, dropin2, gdf2)\n",
    "\n",
    "print 'Ring', '\\n'\n",
    "print r2_count, '\\n'\n",
    "print r2_area, '\\n'\n",
    "print r2_density, '\\n'\n",
    "print r2_density_list, '\\n'\n",
    "print r2_count_list, '\\n'\n",
    "\n",
    "print 'Circle', '\\n'\n",
    "print c2_count, '\\n'\n",
    "print c2_area, '\\n'\n",
    "print c2_density, '\\n'\n",
    "print c2_density_list, '\\n'\n",
    "print c2_count_list, '\\n'\n",
    "\n",
    "#Plot\n",
    "fig = pl.figure(figsize=(10,10))\n",
    "ax1 = fig.add_subplot(221)\n",
    "pl.plot(radius2, c2_density_list, '.--')\n",
    "pl.title(\"{}: circle density\".format(dropin2.Name.values[0]))\n",
    "ax2 = fig.add_subplot(222)\n",
    "pl.plot(radius2, c2_count_list, '.--')\n",
    "pl.title(\"{}: circle count\".format(dropin2.Name.values[0]))\n",
    "\n",
    "ax1 = fig.add_subplot(223)\n",
    "pl.plot(radius2, r2_density_list, '.--')\n",
    "pl.title(\"{}: ring density\".format(dropin2.Name.values[0]))\n",
    "ax2 = fig.add_subplot(224)\n",
    "pl.plot(radius2, r2_count_list, '.--')\n",
    "pl.title(\"{}: ring count\".format(dropin2.Name.values[0]))"
   ]
  },
  {
   "cell_type": "code",
   "execution_count": 53,
   "metadata": {
    "collapsed": true
   },
   "outputs": [],
   "source": [
    "fig.savefig(\"a\")"
   ]
  },
  {
   "cell_type": "markdown",
   "metadata": {},
   "source": [
    "## 4. Hypothesis Test"
   ]
  },
  {
   "cell_type": "markdown",
   "metadata": {},
   "source": [
    "### CircleA V.S. CircleB"
   ]
  },
  {
   "cell_type": "markdown",
   "metadata": {},
   "source": [
    "### Function 2"
   ]
  },
  {
   "cell_type": "code",
   "execution_count": 60,
   "metadata": {
    "collapsed": true
   },
   "outputs": [],
   "source": [
    "# 1. ring-buffer\n",
    "def circles(radius, df):\n",
    "    '''\n",
    "    radius: list\n",
    "    df: df with geometry 'Polygon'\n",
    "    return: Circles not Rings, eg. b['0.001']\n",
    "    '''\n",
    "    b = {}\n",
    "    for r in radius:\n",
    "        temp = df.copy()\n",
    "        temp['geometry'] = temp.buffer(r)\n",
    "        temp.crs = from_epsg(4326)\n",
    "        name = str(r) \n",
    "        b[name] = temp\n",
    "    return b \n",
    "\n",
    "# 2. sjoin: (Polygon, Points) - counts\n",
    "def circleSJoin(radius, b, df_points):\n",
    "    '''\n",
    "    b: circles (buffer)\n",
    "    df_points: df with geometry \"Points\"\n",
    "    return: Circle not Ring with # of Points in each, eg. b_sjoin['0.001']\n",
    "    '''\n",
    "    c_sjoin = {}\n",
    "    for i, r in enumerate(b):\n",
    "        name = str(radius[i])\n",
    "        temp = b[name].copy()\n",
    "        temp.crs = df_points.crs\n",
    "        try:\n",
    "            c_sjoin[name] = gpd.sjoin(temp, df_points)\n",
    "        except ValueError:\n",
    "            c_sjoin[name] = gpd.GeoDataFrame()\n",
    "    return c_sjoin \n",
    "\n",
    "# 3. ringDensity\n",
    "def Density(radius, circles, c_sjoin, shape):\n",
    "    rAreas = {}\n",
    "    rCounts = {}\n",
    "    rDesity = {} \n",
    "    rCounts_list = []\n",
    "    rDesity_list = []\n",
    "    for i in xrange(len(radius)):\n",
    "        name = str(radius[i])\n",
    "        if shape == 'ring':\n",
    "            pass\n",
    "        elif shape == 'circle':\n",
    "            rAreas[name] = circles[name].area.sum()\n",
    "            if c_sjoin[name].empty:\n",
    "                rCounts[name] = 0   \n",
    "            else:\n",
    "                rCounts[name] = c_sjoin[name].shape[0]\n",
    "\n",
    "        rDesity[name] = rCounts[name] / rAreas[name]\n",
    "        rCounts_list.append(rCounts[name])\n",
    "        rDesity_list.append(rDesity[name])\n",
    "    return rDesity, rCounts, rAreas, rDesity_list, rCounts_list\n",
    "\n",
    "# 4\n",
    "def ringDensity(radius, df_polygon, df_point):\n",
    "    c = circles(radius, df_polygon)\n",
    "    bs = circleSJoin(radius, c, df_point)\n",
    "    density, count, area, density_list, count_list = Density(radius, c, bs, 'ring')\n",
    "    return density, count, area, density_list, count_list  \n",
    "\n",
    "#5\n",
    "def circleDensity(radius, df_polygon, df_point):\n",
    "    c = circles(radius, df_polygon)\n",
    "    bs = circleSJoin(radius, c, df_point)\n",
    "    density, count, area, density_list, count_list = Density(radius, c, bs, 'circle')\n",
    "    return density, count, area, density_list, count_list  \n",
    "\n",
    "#6\n",
    "def feet2meter(feet):\n",
    "    meter=[]\n",
    "    for i in xrange(len(feet)):\n",
    "        meter.append(feet[i] * 0.30480061)\n",
    "    print \"Feet: \", feet\n",
    "    print \"Meter: \", meter"
   ]
  },
  {
   "cell_type": "code",
   "execution_count": 58,
   "metadata": {
    "collapsed": true
   },
   "outputs": [],
   "source": [
    "dropin2 = dropin.copy()\n",
    "gdf2 = gdf.copy()\n",
    "dropin2 = dropin2.to_crs(epsg=2263) #US Feet -> 1 feet = 0.30480061 meter\n",
    "gdf2 = gdf2.to_crs(epsg=2263)\n",
    "\n",
    "radius2 = [ 250, 500, 750, 1000, 1250]"
   ]
  },
  {
   "cell_type": "code",
   "execution_count": 61,
   "metadata": {
    "collapsed": false
   },
   "outputs": [
    {
     "name": "stdout",
     "output_type": "stream",
     "text": [
      "[0.0006019355370052779, 1.0202297237377593e-05, 0.00013773101270459748, 1.0202297237377593e-05, 5.101148618688796e-06] \n",
      "[118, 2, 27, 2, 1]\n"
     ]
    }
   ],
   "source": [
    "# Radius = 1 Blocks\n",
    "r=[250] \n",
    "dropin_density = []\n",
    "dropin_count = []\n",
    "for i in xrange(dropin2.shape[0]):\n",
    "    c_density, c_count, c_area, c_density_list, c_count_list  = circleDensity(r, dropin2.iloc[[i]], gdf2)\n",
    "    dropin_density.append(c_density_list[0])\n",
    "    dropin_count.append(c_count[str(r[0])])\n",
    "print dropin_density,'\\n', dropin_count\n",
    "aa = dropin_count\n",
    "a = dropin_density"
   ]
  },
  {
   "cell_type": "code",
   "execution_count": 62,
   "metadata": {
    "collapsed": false
   },
   "outputs": [
    {
     "name": "stdout",
     "output_type": "stream",
     "text": [
      "[0.00035708040330824527, 7.651722928033827e-06, 0.00012880400262190277, 6.3764357733615235e-06, 3.825861464016914e-06] \n",
      "[280, 6, 101, 5, 3]\n"
     ]
    }
   ],
   "source": [
    "# Radius = 2 Blocks\n",
    "r=[500]  \n",
    "dropin_density = []\n",
    "dropin_count = []\n",
    "for i in xrange(dropin2.shape[0]):\n",
    "    c_density, c_count, c_area, c_density_list, c_count_list  = circleDensity(r, dropin2.iloc[[i]], gdf2)\n",
    "    dropin_density.append(c_density_list[0])\n",
    "    dropin_count.append(c_count[str(r[0])])\n",
    "print dropin_density,'\\n', dropin_count\n",
    "bb = dropin_count\n",
    "b = dropin_density"
   ]
  },
  {
   "cell_type": "code",
   "execution_count": 64,
   "metadata": {
    "collapsed": false
   },
   "outputs": [
    {
     "data": {
      "text/plain": [
       "Ttest_relResult(statistic=1.0856975724613618, pvalue=0.33866580255696854)"
      ]
     },
     "execution_count": 64,
     "metadata": {},
     "output_type": "execute_result"
    }
   ],
   "source": [
    "stats.ttest_rel(a,b) "
   ]
  },
  {
   "cell_type": "code",
   "execution_count": 40,
   "metadata": {
    "collapsed": false
   },
   "outputs": [
    {
     "data": {
      "text/html": [
       "<div>\n",
       "<table border=\"1\" class=\"dataframe\">\n",
       "  <thead>\n",
       "    <tr style=\"text-align: right;\">\n",
       "      <th></th>\n",
       "      <th>Radius = 250 ft</th>\n",
       "      <th>Radius = 500 ft</th>\n",
       "    </tr>\n",
       "  </thead>\n",
       "  <tbody>\n",
       "    <tr>\n",
       "      <th>Mainchance</th>\n",
       "      <td>0.000602</td>\n",
       "      <td>0.000357</td>\n",
       "    </tr>\n",
       "    <tr>\n",
       "      <th>The Living Room</th>\n",
       "      <td>0.000010</td>\n",
       "      <td>0.000008</td>\n",
       "    </tr>\n",
       "    <tr>\n",
       "      <th>Olivieri Center</th>\n",
       "      <td>0.000138</td>\n",
       "      <td>0.000129</td>\n",
       "    </tr>\n",
       "    <tr>\n",
       "      <th>The Gathering Place</th>\n",
       "      <td>0.000010</td>\n",
       "      <td>0.000006</td>\n",
       "    </tr>\n",
       "    <tr>\n",
       "      <th>Project Hospitality</th>\n",
       "      <td>0.000005</td>\n",
       "      <td>0.000004</td>\n",
       "    </tr>\n",
       "  </tbody>\n",
       "</table>\n",
       "</div>"
      ],
      "text/plain": [
       "                     Radius = 250 ft  Radius = 500 ft\n",
       "Mainchance                  0.000602         0.000357\n",
       "The Living Room             0.000010         0.000008\n",
       "Olivieri Center             0.000138         0.000129\n",
       "The Gathering Place         0.000010         0.000006\n",
       "Project Hospitality         0.000005         0.000004"
      ]
     },
     "execution_count": 40,
     "metadata": {},
     "output_type": "execute_result"
    }
   ],
   "source": [
    "tab = pd.DataFrame([0.0006019355370052779, 1.0202297237377593e-05, 0.00013773101270459748, 1.0202297237377593e-05, 5.101148618688796e-06],[0.00035708040330824527, 7.651722928033827e-06, 0.00012880400262190277, 6.3764357733615235e-06, 3.825861464016914e-06])\n",
    "tab['Radius = 500 ft'] = tab.index\n",
    "tab = tab.rename(columns={0: \"Radius = 250 ft\"})\n",
    "tab.index=dropin.Name.values\n",
    "tab"
   ]
  },
  {
   "cell_type": "markdown",
   "metadata": {},
   "source": [
    "### Circle V.S. NYC"
   ]
  },
  {
   "cell_type": "code",
   "execution_count": null,
   "metadata": {
    "collapsed": false
   },
   "outputs": [],
   "source": [
    "nyc = gpd.read_file(\"CT_Shape/ct_shape.shp\")\n",
    "nyc2= nyc.copy()\n",
    "nyc2 = nyc2.to_crs(epsg=2263)\n",
    "nyc2_density = gdf2.shape[0] / nyc2.area.sum()\n",
    "print \"The 311 Homeless Encampment Complaints Density of NYC is {:.20f}.\\n\\\n",
    "The Area of NYC is Around {:.3f} ft^2.\\n\\\n",
    "The Number of Homeless Encampment Complaints is {}.\".format(nyc2_density, nyc2.area.sum(),gdf2.shape[0])\n",
    "\n",
    "r=[750] # 3 blocks\n",
    "dropin_density = []\n",
    "dropin_count = []\n",
    "for i in xrange(dropin2.shape[0]):\n",
    "    c_density, c_count, c_area, c_density_list, c_count_list = circleDensity(r, dropin2.iloc[[i]], gdf2)\n",
    "    dropin_density.append(c_density_list[0])\n",
    "    dropin_count.append(c_count[str(r[0])])\n",
    "print dropin_density,'\\n', dropin_count"
   ]
  },
  {
   "cell_type": "code",
   "execution_count": null,
   "metadata": {
    "collapsed": false
   },
   "outputs": [],
   "source": [
    "stats.ttest_1samp(dropin_density, nyc2_density)"
   ]
  }
 ],
 "metadata": {
  "anaconda-cloud": {},
  "kernelspec": {
   "display_name": "Python [default]",
   "language": "python",
   "name": "python2"
  },
  "language_info": {
   "codemirror_mode": {
    "name": "ipython",
    "version": 2
   },
   "file_extension": ".py",
   "mimetype": "text/x-python",
   "name": "python",
   "nbconvert_exporter": "python",
   "pygments_lexer": "ipython2",
   "version": "2.7.12"
  }
 },
 "nbformat": 4,
 "nbformat_minor": 1
}
