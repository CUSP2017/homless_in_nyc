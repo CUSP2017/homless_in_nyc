{
 "cells": [
  {
   "cell_type": "code",
   "execution_count": 1,
   "metadata": {
    "collapsed": false
   },
   "outputs": [
    {
     "name": "stderr",
     "output_type": "stream",
     "text": [
      "/Users/Henrilin28/.pyenv/versions/2.7.8/envs/virtual_2.7/lib/python2.7/site-packages/matplotlib/font_manager.py:273: UserWarning: Matplotlib is building the font cache using fc-list. This may take a moment.\n",
      "  warnings.warn('Matplotlib is building the font cache using fc-list. This may take a moment.')\n"
     ]
    }
   ],
   "source": [
    "import pandas as pd\n",
    "import matplotlib.pyplot as plt\n",
    "import numpy as np\n",
    "import geopandas as gp\n",
    "from sklearn import linear_model\n",
    "import statsmodels.api as sm\n",
    "import statsmodels.formula.api as smf\n",
    "%matplotlib inline"
   ]
  },
  {
   "cell_type": "markdown",
   "metadata": {},
   "source": [
    "# Data has 311 reported homeless people for complaint type - Homeless encampment as well as homeless people reach, can the data be duplicate in both entries, our assumption is that its not!!"
   ]
  },
  {
   "cell_type": "code",
   "execution_count": 2,
   "metadata": {
    "collapsed": false
   },
   "outputs": [],
   "source": [
    "homeless311 = gp.read_file(\"Data_vys217/DHS/homeless311_cT_1316/homeless311_ct_1316.shp\")"
   ]
  },
  {
   "cell_type": "code",
   "execution_count": 3,
   "metadata": {
    "collapsed": true
   },
   "outputs": [],
   "source": [
    "homeless311 = gp.read_file(\"Data_vys217/DHS/homeless311_cT_1316/homeless311_ct_1316.shp\")"
   ]
  },
  {
   "cell_type": "code",
   "execution_count": 4,
   "metadata": {
    "collapsed": false
   },
   "outputs": [
    {
     "data": {
      "text/html": [
       "<div>\n",
       "<table border=\"1\" class=\"dataframe\">\n",
       "  <thead>\n",
       "    <tr style=\"text-align: right;\">\n",
       "      <th></th>\n",
       "      <th>BoroCT2010</th>\n",
       "      <th>BoroCode</th>\n",
       "      <th>BoroName</th>\n",
       "      <th>CDEligibil</th>\n",
       "      <th>CT2010</th>\n",
       "      <th>CTLabel</th>\n",
       "      <th>Count_</th>\n",
       "      <th>FID_1</th>\n",
       "      <th>NTACode</th>\n",
       "      <th>NTAName</th>\n",
       "      <th>...</th>\n",
       "      <th>Shape_Area</th>\n",
       "      <th>Shape_Le_1</th>\n",
       "      <th>Shape_Leng</th>\n",
       "      <th>Sum_Incide</th>\n",
       "      <th>Sum_Latitu</th>\n",
       "      <th>Sum_Longit</th>\n",
       "      <th>Sum_Unique</th>\n",
       "      <th>Sum_X_Coor</th>\n",
       "      <th>Sum_Y_Coor</th>\n",
       "      <th>geometry</th>\n",
       "    </tr>\n",
       "  </thead>\n",
       "  <tbody>\n",
       "    <tr>\n",
       "      <th>0</th>\n",
       "      <td>5000900</td>\n",
       "      <td>5</td>\n",
       "      <td>Staten Island</td>\n",
       "      <td>I</td>\n",
       "      <td>000900</td>\n",
       "      <td>9</td>\n",
       "      <td>8</td>\n",
       "      <td>0</td>\n",
       "      <td>SI22</td>\n",
       "      <td>West New Brighton-New Brighton-St. George</td>\n",
       "      <td>...</td>\n",
       "      <td>2.497010e+06</td>\n",
       "      <td>7729.016794</td>\n",
       "      <td>7729.016794</td>\n",
       "      <td>82408</td>\n",
       "      <td>325.129634</td>\n",
       "      <td>-592.670775</td>\n",
       "      <td>235864456</td>\n",
       "      <td>7687843</td>\n",
       "      <td>1383164</td>\n",
       "      <td>POLYGON ((962269.1260375977 173705.5001831204,...</td>\n",
       "    </tr>\n",
       "    <tr>\n",
       "      <th>1</th>\n",
       "      <td>5007400</td>\n",
       "      <td>5</td>\n",
       "      <td>Staten Island</td>\n",
       "      <td>I</td>\n",
       "      <td>007400</td>\n",
       "      <td>74</td>\n",
       "      <td>1</td>\n",
       "      <td>1</td>\n",
       "      <td>SI14</td>\n",
       "      <td>Grasmere-Arrochar-Ft. Wadsworth</td>\n",
       "      <td>...</td>\n",
       "      <td>5.788238e+06</td>\n",
       "      <td>9902.948473</td>\n",
       "      <td>9902.948473</td>\n",
       "      <td>10305</td>\n",
       "      <td>40.596503</td>\n",
       "      <td>-74.064823</td>\n",
       "      <td>27518397</td>\n",
       "      <td>966248</td>\n",
       "      <td>156605</td>\n",
       "      <td>POLYGON ((967656.8290405422 155637.1314087063,...</td>\n",
       "    </tr>\n",
       "    <tr>\n",
       "      <th>2</th>\n",
       "      <td>1009800</td>\n",
       "      <td>1</td>\n",
       "      <td>Manhattan</td>\n",
       "      <td>I</td>\n",
       "      <td>009800</td>\n",
       "      <td>98</td>\n",
       "      <td>112</td>\n",
       "      <td>2</td>\n",
       "      <td>MN19</td>\n",
       "      <td>Turtle Bay-East Midtown</td>\n",
       "      <td>...</td>\n",
       "      <td>1.906016e+06</td>\n",
       "      <td>5534.199811</td>\n",
       "      <td>5534.199811</td>\n",
       "      <td>1122359</td>\n",
       "      <td>4564.629309</td>\n",
       "      <td>-8284.496178</td>\n",
       "      <td>0</td>\n",
       "      <td>111206732</td>\n",
       "      <td>24031901</td>\n",
       "      <td>POLYGON ((994133.507019043 214848.8975830227, ...</td>\n",
       "    </tr>\n",
       "    <tr>\n",
       "      <th>3</th>\n",
       "      <td>1010000</td>\n",
       "      <td>1</td>\n",
       "      <td>Manhattan</td>\n",
       "      <td>I</td>\n",
       "      <td>010000</td>\n",
       "      <td>100</td>\n",
       "      <td>249</td>\n",
       "      <td>3</td>\n",
       "      <td>MN19</td>\n",
       "      <td>Turtle Bay-East Midtown</td>\n",
       "      <td>...</td>\n",
       "      <td>1.860938e+06</td>\n",
       "      <td>5692.168737</td>\n",
       "      <td>5692.168737</td>\n",
       "      <td>2496138</td>\n",
       "      <td>10148.934664</td>\n",
       "      <td>-18418.769545</td>\n",
       "      <td>0</td>\n",
       "      <td>247081348</td>\n",
       "      <td>53714223</td>\n",
       "      <td>POLYGON ((993108.3057861477 216013.1307983398,...</td>\n",
       "    </tr>\n",
       "    <tr>\n",
       "      <th>4</th>\n",
       "      <td>1010200</td>\n",
       "      <td>1</td>\n",
       "      <td>Manhattan</td>\n",
       "      <td>I</td>\n",
       "      <td>010200</td>\n",
       "      <td>102</td>\n",
       "      <td>365</td>\n",
       "      <td>4</td>\n",
       "      <td>MN17</td>\n",
       "      <td>Midtown-Midtown South</td>\n",
       "      <td>...</td>\n",
       "      <td>1.860993e+06</td>\n",
       "      <td>5687.802439</td>\n",
       "      <td>5687.802439</td>\n",
       "      <td>3658020</td>\n",
       "      <td>14877.389609</td>\n",
       "      <td>-27000.722242</td>\n",
       "      <td>0</td>\n",
       "      <td>361821481</td>\n",
       "      <td>78896885</td>\n",
       "      <td>POLYGON ((992216.5391845852 216507.6870117188,...</td>\n",
       "    </tr>\n",
       "  </tbody>\n",
       "</table>\n",
       "<p>5 rows × 22 columns</p>\n",
       "</div>"
      ],
      "text/plain": [
       "  BoroCT2010 BoroCode       BoroName CDEligibil  CT2010 CTLabel  Count_  \\\n",
       "0    5000900        5  Staten Island          I  000900       9       8   \n",
       "1    5007400        5  Staten Island          I  007400      74       1   \n",
       "2    1009800        1      Manhattan          I  009800      98     112   \n",
       "3    1010000        1      Manhattan          I  010000     100     249   \n",
       "4    1010200        1      Manhattan          I  010200     102     365   \n",
       "\n",
       "   FID_1 NTACode                                    NTAName  \\\n",
       "0      0    SI22  West New Brighton-New Brighton-St. George   \n",
       "1      1    SI14            Grasmere-Arrochar-Ft. Wadsworth   \n",
       "2      2    MN19                    Turtle Bay-East Midtown   \n",
       "3      3    MN19                    Turtle Bay-East Midtown   \n",
       "4      4    MN17                      Midtown-Midtown South   \n",
       "\n",
       "                         ...                            Shape_Area  \\\n",
       "0                        ...                          2.497010e+06   \n",
       "1                        ...                          5.788238e+06   \n",
       "2                        ...                          1.906016e+06   \n",
       "3                        ...                          1.860938e+06   \n",
       "4                        ...                          1.860993e+06   \n",
       "\n",
       "    Shape_Le_1   Shape_Leng  Sum_Incide    Sum_Latitu    Sum_Longit  \\\n",
       "0  7729.016794  7729.016794       82408    325.129634   -592.670775   \n",
       "1  9902.948473  9902.948473       10305     40.596503    -74.064823   \n",
       "2  5534.199811  5534.199811     1122359   4564.629309  -8284.496178   \n",
       "3  5692.168737  5692.168737     2496138  10148.934664 -18418.769545   \n",
       "4  5687.802439  5687.802439     3658020  14877.389609 -27000.722242   \n",
       "\n",
       "   Sum_Unique  Sum_X_Coor  Sum_Y_Coor  \\\n",
       "0   235864456     7687843     1383164   \n",
       "1    27518397      966248      156605   \n",
       "2           0   111206732    24031901   \n",
       "3           0   247081348    53714223   \n",
       "4           0   361821481    78896885   \n",
       "\n",
       "                                            geometry  \n",
       "0  POLYGON ((962269.1260375977 173705.5001831204,...  \n",
       "1  POLYGON ((967656.8290405422 155637.1314087063,...  \n",
       "2  POLYGON ((994133.507019043 214848.8975830227, ...  \n",
       "3  POLYGON ((993108.3057861477 216013.1307983398,...  \n",
       "4  POLYGON ((992216.5391845852 216507.6870117188,...  \n",
       "\n",
       "[5 rows x 22 columns]"
      ]
     },
     "execution_count": 4,
     "metadata": {},
     "output_type": "execute_result"
    }
   ],
   "source": [
    "homeless311.head(5)"
   ]
  },
  {
   "cell_type": "code",
   "execution_count": 5,
   "metadata": {
    "collapsed": true
   },
   "outputs": [],
   "source": [
    "homeless311.drop([u'BoroCode',   u'BoroName', u'CDEligibil',\n",
    "           u'CT2010',    u'CTLabel',       u'FID_1',\n",
    "          u'NTACode',    u'NTAName',   u'OBJECTID',       u'PUMA',\n",
    "       u'Shape_Area', u'Shape_Le_1', u'Shape_Leng', u'Sum_Incide',\n",
    "       u'Sum_Latitu', u'Sum_Longit', u'Sum_Unique', u'Sum_X_Coor',\n",
    "       u'Sum_Y_Coor',   u'geometry'], axis = 1, inplace = True)"
   ]
  },
  {
   "cell_type": "code",
   "execution_count": 6,
   "metadata": {
    "collapsed": false
   },
   "outputs": [
    {
     "data": {
      "text/html": [
       "<div>\n",
       "<table border=\"1\" class=\"dataframe\">\n",
       "  <thead>\n",
       "    <tr style=\"text-align: right;\">\n",
       "      <th></th>\n",
       "      <th>BoroCT2010</th>\n",
       "      <th>Count_</th>\n",
       "    </tr>\n",
       "  </thead>\n",
       "  <tbody>\n",
       "    <tr>\n",
       "      <th>0</th>\n",
       "      <td>5000900</td>\n",
       "      <td>8</td>\n",
       "    </tr>\n",
       "    <tr>\n",
       "      <th>1</th>\n",
       "      <td>5007400</td>\n",
       "      <td>1</td>\n",
       "    </tr>\n",
       "    <tr>\n",
       "      <th>2</th>\n",
       "      <td>1009800</td>\n",
       "      <td>112</td>\n",
       "    </tr>\n",
       "    <tr>\n",
       "      <th>3</th>\n",
       "      <td>1010000</td>\n",
       "      <td>249</td>\n",
       "    </tr>\n",
       "    <tr>\n",
       "      <th>4</th>\n",
       "      <td>1010200</td>\n",
       "      <td>365</td>\n",
       "    </tr>\n",
       "  </tbody>\n",
       "</table>\n",
       "</div>"
      ],
      "text/plain": [
       "  BoroCT2010  Count_\n",
       "0    5000900       8\n",
       "1    5007400       1\n",
       "2    1009800     112\n",
       "3    1010000     249\n",
       "4    1010200     365"
      ]
     },
     "execution_count": 6,
     "metadata": {},
     "output_type": "execute_result"
    }
   ],
   "source": [
    "homeless311.head()"
   ]
  },
  {
   "cell_type": "code",
   "execution_count": null,
   "metadata": {
    "collapsed": false
   },
   "outputs": [],
   "source": [
    "ct[(ct.BoroName == 'Brooklyn')]"
   ]
  },
  {
   "cell_type": "code",
   "execution_count": 8,
   "metadata": {
    "collapsed": false
   },
   "outputs": [
    {
     "ename": "IOError",
     "evalue": "no such file or directory: 'Data_vys217/DHS/ct_homeless_shelters.shp'",
     "output_type": "error",
     "traceback": [
      "\u001b[0;31m---------------------------------------------------------------------------\u001b[0m",
      "\u001b[0;31mIOError\u001b[0m                                   Traceback (most recent call last)",
      "\u001b[0;32m<ipython-input-8-6f7d4bed1252>\u001b[0m in \u001b[0;36m<module>\u001b[0;34m()\u001b[0m\n\u001b[0;32m----> 1\u001b[0;31m \u001b[0mhomeless_shelters\u001b[0m \u001b[0;34m=\u001b[0m \u001b[0mgp\u001b[0m\u001b[0;34m.\u001b[0m\u001b[0mread_file\u001b[0m\u001b[0;34m(\u001b[0m\u001b[0;34m'Data_vys217/DHS/ct_homeless_shelters.shp'\u001b[0m\u001b[0;34m)\u001b[0m\u001b[0;34m\u001b[0m\u001b[0m\n\u001b[0m",
      "\u001b[0;32m/Users/Henrilin28/.pyenv/versions/2.7.8/envs/virtual_2.7/lib/python2.7/site-packages/geopandas/io/file.pyc\u001b[0m in \u001b[0;36mread_file\u001b[0;34m(filename, **kwargs)\u001b[0m\n\u001b[1;32m     19\u001b[0m     \"\"\"\n\u001b[1;32m     20\u001b[0m     \u001b[0mbbox\u001b[0m \u001b[0;34m=\u001b[0m \u001b[0mkwargs\u001b[0m\u001b[0;34m.\u001b[0m\u001b[0mpop\u001b[0m\u001b[0;34m(\u001b[0m\u001b[0;34m'bbox'\u001b[0m\u001b[0;34m,\u001b[0m \u001b[0mNone\u001b[0m\u001b[0;34m)\u001b[0m\u001b[0;34m\u001b[0m\u001b[0m\n\u001b[0;32m---> 21\u001b[0;31m     \u001b[0;32mwith\u001b[0m \u001b[0mfiona\u001b[0m\u001b[0;34m.\u001b[0m\u001b[0mopen\u001b[0m\u001b[0;34m(\u001b[0m\u001b[0mfilename\u001b[0m\u001b[0;34m,\u001b[0m \u001b[0;34m**\u001b[0m\u001b[0mkwargs\u001b[0m\u001b[0;34m)\u001b[0m \u001b[0;32mas\u001b[0m \u001b[0mf\u001b[0m\u001b[0;34m:\u001b[0m\u001b[0;34m\u001b[0m\u001b[0m\n\u001b[0m\u001b[1;32m     22\u001b[0m         \u001b[0mcrs\u001b[0m \u001b[0;34m=\u001b[0m \u001b[0mf\u001b[0m\u001b[0;34m.\u001b[0m\u001b[0mcrs\u001b[0m\u001b[0;34m\u001b[0m\u001b[0m\n\u001b[1;32m     23\u001b[0m         \u001b[0;32mif\u001b[0m \u001b[0mbbox\u001b[0m \u001b[0;32mis\u001b[0m \u001b[0;32mnot\u001b[0m \u001b[0mNone\u001b[0m\u001b[0;34m:\u001b[0m\u001b[0;34m\u001b[0m\u001b[0m\n",
      "\u001b[0;32m/Users/Henrilin28/.pyenv/versions/2.7.8/envs/virtual_2.7/lib/python2.7/site-packages/fiona/__init__.pyc\u001b[0m in \u001b[0;36mopen\u001b[0;34m(path, mode, driver, schema, crs, encoding, layer, vfs, enabled_drivers, crs_wkt)\u001b[0m\n\u001b[1;32m    163\u001b[0m                 \u001b[0;32mraise\u001b[0m \u001b[0mIOError\u001b[0m\u001b[0;34m(\u001b[0m\u001b[0;34m\"no such archive file: %r\"\u001b[0m \u001b[0;34m%\u001b[0m \u001b[0marchive\u001b[0m\u001b[0;34m)\u001b[0m\u001b[0;34m\u001b[0m\u001b[0m\n\u001b[1;32m    164\u001b[0m         \u001b[0;32melif\u001b[0m \u001b[0mpath\u001b[0m \u001b[0;34m!=\u001b[0m \u001b[0;34m'-'\u001b[0m \u001b[0;32mand\u001b[0m \u001b[0;32mnot\u001b[0m \u001b[0mos\u001b[0m\u001b[0;34m.\u001b[0m\u001b[0mpath\u001b[0m\u001b[0;34m.\u001b[0m\u001b[0mexists\u001b[0m\u001b[0;34m(\u001b[0m\u001b[0mpath\u001b[0m\u001b[0;34m)\u001b[0m\u001b[0;34m:\u001b[0m\u001b[0;34m\u001b[0m\u001b[0m\n\u001b[0;32m--> 165\u001b[0;31m             \u001b[0;32mraise\u001b[0m \u001b[0mIOError\u001b[0m\u001b[0;34m(\u001b[0m\u001b[0;34m\"no such file or directory: %r\"\u001b[0m \u001b[0;34m%\u001b[0m \u001b[0mpath\u001b[0m\u001b[0;34m)\u001b[0m\u001b[0;34m\u001b[0m\u001b[0m\n\u001b[0m\u001b[1;32m    166\u001b[0m         c = Collection(path, mode, driver=driver, encoding=encoding,\n\u001b[1;32m    167\u001b[0m                        \u001b[0mlayer\u001b[0m\u001b[0;34m=\u001b[0m\u001b[0mlayer\u001b[0m\u001b[0;34m,\u001b[0m \u001b[0mvsi\u001b[0m\u001b[0;34m=\u001b[0m\u001b[0mvsi\u001b[0m\u001b[0;34m,\u001b[0m \u001b[0marchive\u001b[0m\u001b[0;34m=\u001b[0m\u001b[0marchive\u001b[0m\u001b[0;34m,\u001b[0m\u001b[0;34m\u001b[0m\u001b[0m\n",
      "\u001b[0;31mIOError\u001b[0m: no such file or directory: 'Data_vys217/DHS/ct_homeless_shelters.shp'"
     ]
    }
   ],
   "source": [
    "homeless_shelters = gp.read_file('Data_vys217/DHS/ct_homeless_shelters.shp')"
   ]
  },
  {
   "cell_type": "code",
   "execution_count": null,
   "metadata": {
    "collapsed": false
   },
   "outputs": [],
   "source": [
    "homeless_shelters.columns"
   ]
  },
  {
   "cell_type": "code",
   "execution_count": null,
   "metadata": {
    "collapsed": false
   },
   "outputs": [],
   "source": [
    "homeless_shelters"
   ]
  },
  {
   "cell_type": "code",
   "execution_count": null,
   "metadata": {
    "collapsed": false
   },
   "outputs": [],
   "source": [
    "homeless_shelters.drop([ u'CDEligibil',\n",
    "              u'FID_1',\n",
    "          u'NTACode',    u'NTAName',   u'OBJECTID',       u'PUMA',\n",
    "       u'Shape_Area', u'Shape_Le_1', u'Shape_Leng', u'Sum_Agen_1',\n",
    "       u'Sum_Agency',    u'Sum_BBL', u'Sum_BoroCo',     u'Sum_CD',\n",
    "       u'Sum_CapTyp', u'Sum_Capaci', u'Sum_Counci', u'Sum_FacTyp',\n",
    "       u'Sum_G9toG1', u'Sum_GroupT', u'Sum_Health', u'Sum_PKtoG8',\n",
    "       u'Sum_Police', u'Sum_SGroup', u'Sum_School', u'Sum_TaxBlo',\n",
    "       u'Sum_TaxLot', u'Sum_XCoord', u'Sum_YCoord',   u'geometry'], axis = 1, inplace = True)"
   ]
  },
  {
   "cell_type": "code",
   "execution_count": null,
   "metadata": {
    "collapsed": true
   },
   "outputs": [],
   "source": [
    "homeless_shelters.drop(['BoroCode','BoroName','CT2010','CTLabel'], axis= 1, inplace=True)"
   ]
  },
  {
   "cell_type": "code",
   "execution_count": null,
   "metadata": {
    "collapsed": false
   },
   "outputs": [],
   "source": [
    "homeless_shelters.head(2)"
   ]
  },
  {
   "cell_type": "code",
   "execution_count": null,
   "metadata": {
    "collapsed": false
   },
   "outputs": [],
   "source": [
    "demographics =pd.read_csv('../Data_vys217/demographics_data2go.csv', \n",
    "                          usecols= ['BoroCT','adult_samehome_tract', 'aframer_pop_tract', 'asian_api_pop_tract',\n",
    "                                    'foreign_tract', 'disabled_tract', 'divorced_tract', 'latino_pop_tract',\n",
    "                                   'natamer_pop_tract', 'no_hs_tract','ex_high_cost_h_tract', 'labor_force_participation_tract',\n",
    "                                    'median_household_income_tract','poverty_all_ages_federal_percent_tract', 'unemployment_tract',\n",
    "                                    'unpaid_family_workers_class_tract', 'working_poor_tract'])"
   ]
  },
  {
   "cell_type": "code",
   "execution_count": null,
   "metadata": {
    "collapsed": true
   },
   "outputs": [],
   "source": [
    "demographics.rename(columns={'BoroCT':'BoroCT2010'}, inplace=True)"
   ]
  },
  {
   "cell_type": "code",
   "execution_count": null,
   "metadata": {
    "collapsed": true
   },
   "outputs": [],
   "source": [
    "demographics.BoroCT2010 = demographics.BoroCT2010.astype('unicode')"
   ]
  },
  {
   "cell_type": "code",
   "execution_count": null,
   "metadata": {
    "collapsed": false
   },
   "outputs": [],
   "source": [
    "len(demographics.BoroCT2010.unique())"
   ]
  },
  {
   "cell_type": "code",
   "execution_count": null,
   "metadata": {
    "collapsed": false
   },
   "outputs": [],
   "source": [
    "len(homeless_shelters.BoroCT2010.unique())"
   ]
  },
  {
   "cell_type": "code",
   "execution_count": null,
   "metadata": {
    "collapsed": false
   },
   "outputs": [],
   "source": [
    "len(crime_ct.BoroCT2010.unique())"
   ]
  },
  {
   "cell_type": "code",
   "execution_count": null,
   "metadata": {
    "collapsed": false
   },
   "outputs": [],
   "source": [
    "demographics.head(2)"
   ]
  },
  {
   "cell_type": "code",
   "execution_count": null,
   "metadata": {
    "collapsed": false
   },
   "outputs": [],
   "source": [
    "demographics[demographics.BoroCT2010 == 1009800]"
   ]
  },
  {
   "cell_type": "code",
   "execution_count": null,
   "metadata": {
    "collapsed": true
   },
   "outputs": [],
   "source": []
  },
  {
   "cell_type": "code",
   "execution_count": null,
   "metadata": {
    "collapsed": true
   },
   "outputs": [],
   "source": []
  },
  {
   "cell_type": "code",
   "execution_count": null,
   "metadata": {
    "collapsed": true
   },
   "outputs": [],
   "source": [
    "crime_ct = gp.read_file('../Data_vys217/Crime/crimes_ct/crime_ct.shp')"
   ]
  },
  {
   "cell_type": "code",
   "execution_count": null,
   "metadata": {
    "collapsed": false
   },
   "outputs": [],
   "source": [
    "crime_ct.columns"
   ]
  },
  {
   "cell_type": "code",
   "execution_count": null,
   "metadata": {
    "collapsed": false
   },
   "outputs": [],
   "source": [
    "crime_ct.drop([u'BoroCode',   u'BoroName', u'CDEligibil',\n",
    "           u'CT2010',    u'CTLabel',        u'FID_1',\n",
    "          u'NTACode',    u'NTAName',   u'OBJECTID',       u'PUMA',\n",
    "       u'Shape_Area', u'Shape_Le_1', u'Shape_Leng', u'Sum_CMPLNT',\n",
    "       u'Sum_Latitu', u'Sum_Longit',   u'geometry'], axis = 1, inplace =True)"
   ]
  },
  {
   "cell_type": "code",
   "execution_count": null,
   "metadata": {
    "collapsed": false
   },
   "outputs": [],
   "source": [
    "crime_ct.rename(columns={'Count_':'Crime'}, inplace=True)"
   ]
  },
  {
   "cell_type": "code",
   "execution_count": null,
   "metadata": {
    "collapsed": true
   },
   "outputs": [],
   "source": [
    "homeless_regress = pd.DataFrame()"
   ]
  },
  {
   "cell_type": "code",
   "execution_count": null,
   "metadata": {
    "collapsed": true
   },
   "outputs": [],
   "source": [
    "homeless_regress = pd.merge(crime_ct,homeless_shelters, how='inner', on='BoroCT2010')"
   ]
  },
  {
   "cell_type": "code",
   "execution_count": null,
   "metadata": {
    "collapsed": true
   },
   "outputs": [],
   "source": [
    "homeless_regress = pd.merge(homeless311,homeless_regress, how='inner', on='BoroCT2010')"
   ]
  },
  {
   "cell_type": "code",
   "execution_count": null,
   "metadata": {
    "collapsed": false
   },
   "outputs": [],
   "source": [
    "homeless_regress.columns = ['BoroCT2010','homeless311_comp', 'Crime', 'homeless_shelters']"
   ]
  },
  {
   "cell_type": "code",
   "execution_count": null,
   "metadata": {
    "collapsed": false
   },
   "outputs": [],
   "source": [
    "homeless_regress = pd.merge(homeless_regress,demographics, how='inner', on='BoroCT2010')"
   ]
  },
  {
   "cell_type": "code",
   "execution_count": null,
   "metadata": {
    "collapsed": false
   },
   "outputs": [],
   "source": [
    "homeless_regress"
   ]
  },
  {
   "cell_type": "code",
   "execution_count": null,
   "metadata": {
    "collapsed": false
   },
   "outputs": [],
   "source": [
    "plt.plot((homeless_regress.divorced_tract),(homeless_regress.homeless311_comp),'o')\n",
    "plt.xlabel('Crime Counts in NYC')\n",
    "plt.ylabel('311 Homeless complaints')"
   ]
  },
  {
   "cell_type": "code",
   "execution_count": null,
   "metadata": {
    "collapsed": true
   },
   "outputs": [],
   "source": [
    "X = homeless_regress.iloc[:,2:]"
   ]
  },
  {
   "cell_type": "code",
   "execution_count": null,
   "metadata": {
    "collapsed": false
   },
   "outputs": [],
   "source": [
    "y = homeless_regress.iloc[:,1]"
   ]
  },
  {
   "cell_type": "code",
   "execution_count": null,
   "metadata": {
    "collapsed": false
   },
   "outputs": [],
   "source": [
    "lm = sm.OLS(y,X)"
   ]
  },
  {
   "cell_type": "code",
   "execution_count": null,
   "metadata": {
    "collapsed": false
   },
   "outputs": [],
   "source": [
    "lm = smf.ols(formula = 'homeless311_comp ~ divorced_tract - 1',\n",
    "             data = homeless_regress).fit()\n"
   ]
  },
  {
   "cell_type": "code",
   "execution_count": null,
   "metadata": {
    "collapsed": false
   },
   "outputs": [],
   "source": [
    "print lm.summary()"
   ]
  },
  {
   "cell_type": "code",
   "execution_count": null,
   "metadata": {
    "collapsed": true
   },
   "outputs": [],
   "source": []
  },
  {
   "cell_type": "code",
   "execution_count": null,
   "metadata": {
    "collapsed": true
   },
   "outputs": [],
   "source": []
  },
  {
   "cell_type": "code",
   "execution_count": null,
   "metadata": {
    "collapsed": true
   },
   "outputs": [],
   "source": []
  },
  {
   "cell_type": "code",
   "execution_count": null,
   "metadata": {
    "collapsed": false
   },
   "outputs": [],
   "source": [
    "homeless2016 = pd.read_csv(\"../Data_vys217/DHS/311_Service_Requests/311_Service_Requests_from_2016.csv\",\n",
    "                           usecols=['Created Date', 'Incident Zip'])"
   ]
  },
  {
   "cell_type": "code",
   "execution_count": null,
   "metadata": {
    "collapsed": false
   },
   "outputs": [],
   "source": [
    "homeless2015new = pd.read_csv(\"../Data_vys217/DHS/311_Service_Requests/311_Service_Requests_from_2015_nyc_filter.csv\",\n",
    "                               usecols=['Created Date', 'Incident Zip'])"
   ]
  },
  {
   "cell_type": "code",
   "execution_count": null,
   "metadata": {
    "collapsed": true
   },
   "outputs": [],
   "source": [
    "homeless2016['Created Date'] = pd.to_datetime(homeless2016['Created Date'])\n",
    "homeless2015new['Created Date'] = pd.to_datetime(homeless2015new['Created Date'])"
   ]
  },
  {
   "cell_type": "code",
   "execution_count": null,
   "metadata": {
    "collapsed": false
   },
   "outputs": [],
   "source": [
    "homeless2015new.head()"
   ]
  },
  {
   "cell_type": "code",
   "execution_count": null,
   "metadata": {
    "collapsed": false
   },
   "outputs": [],
   "source": [
    "homeless2015new['Created Date'].describe()"
   ]
  },
  {
   "cell_type": "code",
   "execution_count": null,
   "metadata": {
    "collapsed": false
   },
   "outputs": [],
   "source": [
    "homeless2016['Created Date'].describe()"
   ]
  },
  {
   "cell_type": "markdown",
   "metadata": {},
   "source": [
    "# Number of reported homeless people on streets has increased 4 times in 2016 from 2015"
   ]
  },
  {
   "cell_type": "code",
   "execution_count": null,
   "metadata": {
    "collapsed": false
   },
   "outputs": [],
   "source": [
    "homeless2015new.drop(['Created Date'], axis=1, inplace=True)\n",
    "homeless2016.drop(['Created Date'], axis=1, inplace=True)"
   ]
  },
  {
   "cell_type": "code",
   "execution_count": null,
   "metadata": {
    "collapsed": false
   },
   "outputs": [],
   "source": [
    "print homeless2015new.shape\n",
    "print homeless2016.shape"
   ]
  },
  {
   "cell_type": "code",
   "execution_count": null,
   "metadata": {
    "collapsed": false
   },
   "outputs": [],
   "source": [
    "homeless2015new.dropna(inplace=True)\n",
    "homeless2016.dropna(inplace=True)"
   ]
  },
  {
   "cell_type": "code",
   "execution_count": null,
   "metadata": {
    "collapsed": false
   },
   "outputs": [],
   "source": [
    "print homeless2015new.shape\n",
    "print homeless2016.shape"
   ]
  },
  {
   "cell_type": "code",
   "execution_count": null,
   "metadata": {
    "collapsed": false
   },
   "outputs": [],
   "source": [
    "#Merge 2015 and 16 data\n",
    "homeless15_16 = pd.concat([homeless2015new, homeless2016], ignore_index= True)"
   ]
  },
  {
   "cell_type": "code",
   "execution_count": null,
   "metadata": {
    "collapsed": false
   },
   "outputs": [],
   "source": [
    "homless_counts = homeless15_16['Incident Zip'].value_counts()"
   ]
  },
  {
   "cell_type": "code",
   "execution_count": null,
   "metadata": {
    "collapsed": false
   },
   "outputs": [],
   "source": [
    "homless_counts = pd.DataFrame(homless_counts)"
   ]
  },
  {
   "cell_type": "code",
   "execution_count": null,
   "metadata": {
    "collapsed": false
   },
   "outputs": [],
   "source": [
    "homless_counts.reset_index(inplace=True)"
   ]
  },
  {
   "cell_type": "code",
   "execution_count": null,
   "metadata": {
    "collapsed": false
   },
   "outputs": [],
   "source": [
    "homless_counts.columns"
   ]
  },
  {
   "cell_type": "code",
   "execution_count": null,
   "metadata": {
    "collapsed": false
   },
   "outputs": [],
   "source": [
    "homless_counts.rename(columns={'index':'zip_code', 'Incident Zip':'homeless_count'}, inplace=True)"
   ]
  },
  {
   "cell_type": "code",
   "execution_count": null,
   "metadata": {
    "collapsed": false
   },
   "outputs": [],
   "source": [
    "homless_counts.head()"
   ]
  },
  {
   "cell_type": "code",
   "execution_count": null,
   "metadata": {
    "collapsed": false
   },
   "outputs": [],
   "source": [
    "homless_counts.homeless_count.hist(bins=1000)"
   ]
  },
  {
   "cell_type": "markdown",
   "metadata": {},
   "source": [
    "# Get the crimes count data"
   ]
  },
  {
   "cell_type": "code",
   "execution_count": null,
   "metadata": {
    "collapsed": true
   },
   "outputs": [],
   "source": [
    "crimes_counts = pd.read_csv(\"C:\\Users\\Vishwajeet\\Documents\\Python Scripts\\Homeless\\VYS217\\Data_vys217\\Crime\\intermittent\\crimes_counts.csv\")"
   ]
  },
  {
   "cell_type": "code",
   "execution_count": null,
   "metadata": {
    "collapsed": true
   },
   "outputs": [],
   "source": [
    "crimes_counts.drop(['Unnamed: 0'], axis= 1, inplace= True)"
   ]
  },
  {
   "cell_type": "code",
   "execution_count": null,
   "metadata": {
    "collapsed": false,
    "scrolled": true
   },
   "outputs": [],
   "source": [
    "crimes_counts."
   ]
  },
  {
   "cell_type": "markdown",
   "metadata": {},
   "source": [
    "# Merge the homeless and crime data"
   ]
  },
  {
   "cell_type": "code",
   "execution_count": null,
   "metadata": {
    "collapsed": false
   },
   "outputs": [],
   "source": [
    "homeless_crimes = pd.merge(crimes_counts, homless_counts, on='zip_code', how='inner')"
   ]
  },
  {
   "cell_type": "code",
   "execution_count": null,
   "metadata": {
    "collapsed": false
   },
   "outputs": [],
   "source": [
    "homeless_crimes = homeless_crimes[homeless_crimes.zip_code > 10000]"
   ]
  },
  {
   "cell_type": "code",
   "execution_count": null,
   "metadata": {
    "collapsed": false
   },
   "outputs": [],
   "source": [
    "homeless_crimes"
   ]
  },
  {
   "cell_type": "markdown",
   "metadata": {},
   "source": [
    "# Pearson's correlation coefficient function of pandas"
   ]
  },
  {
   "cell_type": "code",
   "execution_count": null,
   "metadata": {
    "collapsed": false
   },
   "outputs": [],
   "source": [
    "homeless_crimes.corr()"
   ]
  },
  {
   "cell_type": "code",
   "execution_count": null,
   "metadata": {
    "collapsed": false
   },
   "outputs": [],
   "source": [
    "plt.plot(np.log10(homeless_crimes.crime_count),np.log10(homeless_crimes.homeless_count),'o')\n",
    "plt.xlabel('Crime Counts in NYC')\n",
    "plt.ylabel('311 Homeless complaints')"
   ]
  },
  {
   "cell_type": "code",
   "execution_count": null,
   "metadata": {
    "collapsed": false
   },
   "outputs": [],
   "source": [
    "homeless_crime_log =pd.DataFrame()\n",
    "homeless_crime_log['log_homeless'] = np.log10(homeless_crimes.homeless_count)\n",
    "homeless_crime_log['log_crimes'] = np.log10(homeless_crimes.crime_count)\n",
    "homeless_crime_log['log_crimes_2'] = (np.log10(homeless_crimes.crime_count))**2"
   ]
  },
  {
   "cell_type": "markdown",
   "metadata": {},
   "source": [
    "# Pearson's correlation coefficient function of pandas for log data"
   ]
  },
  {
   "cell_type": "code",
   "execution_count": null,
   "metadata": {
    "collapsed": false
   },
   "outputs": [],
   "source": [
    "homeless_crime_log.corr()"
   ]
  },
  {
   "cell_type": "code",
   "execution_count": null,
   "metadata": {
    "collapsed": false
   },
   "outputs": [],
   "source": [
    "lm = smf.ols(formula= 'log_homeless ~ log_crimes', data= homeless_crime_log).fit()\n",
    "print lm.summary()"
   ]
  },
  {
   "cell_type": "code",
   "execution_count": null,
   "metadata": {
    "collapsed": true
   },
   "outputs": [],
   "source": []
  }
 ],
 "metadata": {
  "anaconda-cloud": {},
  "kernelspec": {
   "display_name": "Python 2",
   "language": "python",
   "name": "python2"
  },
  "language_info": {
   "codemirror_mode": {
    "name": "ipython",
    "version": 2
   },
   "file_extension": ".py",
   "mimetype": "text/x-python",
   "name": "python",
   "nbconvert_exporter": "python",
   "pygments_lexer": "ipython2",
   "version": "2.7.8"
  }
 },
 "nbformat": 4,
 "nbformat_minor": 0
}
