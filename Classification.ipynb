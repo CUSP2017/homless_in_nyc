{
 "cells": [
  {
   "cell_type": "code",
   "execution_count": 1,
   "metadata": {
    "collapsed": false
   },
   "outputs": [
    {
     "name": "stderr",
     "output_type": "stream",
     "text": [
      "/Users/Henrilin28/.pyenv/versions/2.7.8/envs/virtual_2.7/lib/python2.7/site-packages/matplotlib/font_manager.py:273: UserWarning: Matplotlib is building the font cache using fc-list. This may take a moment.\n",
      "  warnings.warn('Matplotlib is building the font cache using fc-list. This may take a moment.')\n"
     ]
    }
   ],
   "source": [
    "import pandas as pd \n",
    "import numpy as np\n",
    "import geopandas as gp\n",
    "%matplotlib inline"
   ]
  },
  {
   "cell_type": "code",
   "execution_count": 34,
   "metadata": {
    "collapsed": true
   },
   "outputs": [],
   "source": [
    "df1 = pd.read_csv(\"merged.csv\",index_col=0)"
   ]
  },
  {
   "cell_type": "code",
   "execution_count": 39,
   "metadata": {
    "collapsed": false
   },
   "outputs": [
    {
     "data": {
      "text/html": [
       "<div>\n",
       "<table border=\"1\" class=\"dataframe\">\n",
       "  <thead>\n",
       "    <tr style=\"text-align: right;\">\n",
       "      <th></th>\n",
       "      <th>BoroCT2010</th>\n",
       "      <th>homeless311_comp</th>\n",
       "      <th>Crime</th>\n",
       "      <th>homeless_shelters</th>\n",
       "      <th>Area</th>\n",
       "      <th>Capacity</th>\n",
       "      <th>adult_samehome_tract</th>\n",
       "      <th>aframer_pop_tract</th>\n",
       "      <th>aframer_total_pop_tract</th>\n",
       "      <th>age_pyramid_female_15_to_24_tract</th>\n",
       "      <th>...</th>\n",
       "      <th>retail_trade_industries_tract</th>\n",
       "      <th>sales_and_office_occupations_tract</th>\n",
       "      <th>self_employed_class_tract</th>\n",
       "      <th>service_occupations_tract</th>\n",
       "      <th>transportation_warehousing_utilities_industries_tract</th>\n",
       "      <th>unemployment_tract</th>\n",
       "      <th>unpaid_family_workers_class_tract</th>\n",
       "      <th>wholesale_trade_industries_tract</th>\n",
       "      <th>working_poor_tract</th>\n",
       "      <th>Total_cap</th>\n",
       "    </tr>\n",
       "  </thead>\n",
       "  <tbody>\n",
       "    <tr>\n",
       "      <th>0</th>\n",
       "      <td>5000900</td>\n",
       "      <td>8</td>\n",
       "      <td>129</td>\n",
       "      <td>0</td>\n",
       "      <td>2.497010e+06</td>\n",
       "      <td>0.0</td>\n",
       "      <td>87.308534</td>\n",
       "      <td>39.449541</td>\n",
       "      <td>774.0</td>\n",
       "      <td>172.0</td>\n",
       "      <td>...</td>\n",
       "      <td>8.663366</td>\n",
       "      <td>21.782178</td>\n",
       "      <td>5.074257</td>\n",
       "      <td>22.896040</td>\n",
       "      <td>12.995050</td>\n",
       "      <td>5.790960</td>\n",
       "      <td>0.5</td>\n",
       "      <td>9.529703</td>\n",
       "      <td>3.836634</td>\n",
       "      <td>0.0</td>\n",
       "    </tr>\n",
       "    <tr>\n",
       "      <th>1</th>\n",
       "      <td>5007400</td>\n",
       "      <td>1</td>\n",
       "      <td>124</td>\n",
       "      <td>0</td>\n",
       "      <td>5.788238e+06</td>\n",
       "      <td>0.0</td>\n",
       "      <td>98.185643</td>\n",
       "      <td>0.571429</td>\n",
       "      <td>27.0</td>\n",
       "      <td>270.0</td>\n",
       "      <td>...</td>\n",
       "      <td>11.291822</td>\n",
       "      <td>21.514870</td>\n",
       "      <td>8.224907</td>\n",
       "      <td>28.624535</td>\n",
       "      <td>5.901487</td>\n",
       "      <td>5.554120</td>\n",
       "      <td>0.0</td>\n",
       "      <td>6.737918</td>\n",
       "      <td>5.669145</td>\n",
       "      <td>0.0</td>\n",
       "    </tr>\n",
       "    <tr>\n",
       "      <th>2</th>\n",
       "      <td>1009800</td>\n",
       "      <td>112</td>\n",
       "      <td>217</td>\n",
       "      <td>2</td>\n",
       "      <td>1.906016e+06</td>\n",
       "      <td>185.0</td>\n",
       "      <td>88.050222</td>\n",
       "      <td>1.631412</td>\n",
       "      <td>118.0</td>\n",
       "      <td>601.0</td>\n",
       "      <td>...</td>\n",
       "      <td>10.755993</td>\n",
       "      <td>31.878713</td>\n",
       "      <td>6.146282</td>\n",
       "      <td>5.121901</td>\n",
       "      <td>0.799017</td>\n",
       "      <td>2.078420</td>\n",
       "      <td>0.0</td>\n",
       "      <td>0.799017</td>\n",
       "      <td>0.614628</td>\n",
       "      <td>370.0</td>\n",
       "    </tr>\n",
       "    <tr>\n",
       "      <th>3</th>\n",
       "      <td>1010000</td>\n",
       "      <td>249</td>\n",
       "      <td>361</td>\n",
       "      <td>0</td>\n",
       "      <td>1.860938e+06</td>\n",
       "      <td>0.0</td>\n",
       "      <td>76.261128</td>\n",
       "      <td>1.204819</td>\n",
       "      <td>22.0</td>\n",
       "      <td>61.0</td>\n",
       "      <td>...</td>\n",
       "      <td>6.688155</td>\n",
       "      <td>22.481869</td>\n",
       "      <td>4.109589</td>\n",
       "      <td>4.512490</td>\n",
       "      <td>7.252216</td>\n",
       "      <td>4.350382</td>\n",
       "      <td>0.0</td>\n",
       "      <td>5.479452</td>\n",
       "      <td>6.204674</td>\n",
       "      <td>0.0</td>\n",
       "    </tr>\n",
       "    <tr>\n",
       "      <th>4</th>\n",
       "      <td>1010200</td>\n",
       "      <td>365</td>\n",
       "      <td>177</td>\n",
       "      <td>0</td>\n",
       "      <td>1.860993e+06</td>\n",
       "      <td>0.0</td>\n",
       "      <td>95.555556</td>\n",
       "      <td>1.777778</td>\n",
       "      <td>4.0</td>\n",
       "      <td>14.0</td>\n",
       "      <td>...</td>\n",
       "      <td>10.294118</td>\n",
       "      <td>16.176471</td>\n",
       "      <td>33.823529</td>\n",
       "      <td>0.000000</td>\n",
       "      <td>0.000000</td>\n",
       "      <td>0.000000</td>\n",
       "      <td>0.0</td>\n",
       "      <td>0.000000</td>\n",
       "      <td>0.000000</td>\n",
       "      <td>0.0</td>\n",
       "    </tr>\n",
       "  </tbody>\n",
       "</table>\n",
       "<p>5 rows × 170 columns</p>\n",
       "</div>"
      ],
      "text/plain": [
       "   BoroCT2010  homeless311_comp  Crime  homeless_shelters          Area  \\\n",
       "0     5000900                 8    129                  0  2.497010e+06   \n",
       "1     5007400                 1    124                  0  5.788238e+06   \n",
       "2     1009800               112    217                  2  1.906016e+06   \n",
       "3     1010000               249    361                  0  1.860938e+06   \n",
       "4     1010200               365    177                  0  1.860993e+06   \n",
       "\n",
       "   Capacity  adult_samehome_tract  aframer_pop_tract  aframer_total_pop_tract  \\\n",
       "0       0.0             87.308534          39.449541                    774.0   \n",
       "1       0.0             98.185643           0.571429                     27.0   \n",
       "2     185.0             88.050222           1.631412                    118.0   \n",
       "3       0.0             76.261128           1.204819                     22.0   \n",
       "4       0.0             95.555556           1.777778                      4.0   \n",
       "\n",
       "   age_pyramid_female_15_to_24_tract    ...      \\\n",
       "0                              172.0    ...       \n",
       "1                              270.0    ...       \n",
       "2                              601.0    ...       \n",
       "3                               61.0    ...       \n",
       "4                               14.0    ...       \n",
       "\n",
       "   retail_trade_industries_tract  sales_and_office_occupations_tract  \\\n",
       "0                       8.663366                           21.782178   \n",
       "1                      11.291822                           21.514870   \n",
       "2                      10.755993                           31.878713   \n",
       "3                       6.688155                           22.481869   \n",
       "4                      10.294118                           16.176471   \n",
       "\n",
       "   self_employed_class_tract  service_occupations_tract  \\\n",
       "0                   5.074257                  22.896040   \n",
       "1                   8.224907                  28.624535   \n",
       "2                   6.146282                   5.121901   \n",
       "3                   4.109589                   4.512490   \n",
       "4                  33.823529                   0.000000   \n",
       "\n",
       "   transportation_warehousing_utilities_industries_tract  unemployment_tract  \\\n",
       "0                                          12.995050                5.790960   \n",
       "1                                           5.901487                5.554120   \n",
       "2                                           0.799017                2.078420   \n",
       "3                                           7.252216                4.350382   \n",
       "4                                           0.000000                0.000000   \n",
       "\n",
       "   unpaid_family_workers_class_tract  wholesale_trade_industries_tract  \\\n",
       "0                                0.5                          9.529703   \n",
       "1                                0.0                          6.737918   \n",
       "2                                0.0                          0.799017   \n",
       "3                                0.0                          5.479452   \n",
       "4                                0.0                          0.000000   \n",
       "\n",
       "   working_poor_tract  Total_cap  \n",
       "0            3.836634        0.0  \n",
       "1            5.669145        0.0  \n",
       "2            0.614628      370.0  \n",
       "3            6.204674        0.0  \n",
       "4            0.000000        0.0  \n",
       "\n",
       "[5 rows x 170 columns]"
      ]
     },
     "execution_count": 39,
     "metadata": {},
     "output_type": "execute_result"
    }
   ],
   "source": [
    "df1.head(5)"
   ]
  },
  {
   "cell_type": "code",
   "execution_count": null,
   "metadata": {
    "collapsed": true
   },
   "outputs": [],
   "source": [
    "df1.columns.v"
   ]
  },
  {
   "cell_type": "code",
   "execution_count": 40,
   "metadata": {
    "collapsed": false
   },
   "outputs": [],
   "source": [
    "df1[\"Total_cap\"] = df1[\"homeless_shelters\"]*df1[\"Capacity\"]\n"
   ]
  },
  {
   "cell_type": "code",
   "execution_count": 42,
   "metadata": {
    "collapsed": false
   },
   "outputs": [],
   "source": [
    "df3 = df1.copy()\n",
    "nyu_hc = pd.read_csv(\"nyc.csv\",encoding=\"utf-8\",index_col=0)"
   ]
  },
  {
   "cell_type": "code",
   "execution_count": 45,
   "metadata": {
    "collapsed": false
   },
   "outputs": [
    {
     "data": {
      "text/html": [
       "<div>\n",
       "<table border=\"1\" class=\"dataframe\">\n",
       "  <thead>\n",
       "    <tr style=\"text-align: right;\">\n",
       "      <th></th>\n",
       "      <th>BoroCT2010</th>\n",
       "      <th>homeless311_comp</th>\n",
       "      <th>Crime</th>\n",
       "      <th>homeless_shelters</th>\n",
       "      <th>Area</th>\n",
       "      <th>Capacity</th>\n",
       "      <th>adult_samehome_tract</th>\n",
       "      <th>aframer_pop_tract</th>\n",
       "      <th>aframer_total_pop_tract</th>\n",
       "      <th>age_pyramid_female_15_to_24_tract</th>\n",
       "      <th>...</th>\n",
       "      <th>retail_trade_industries_tract</th>\n",
       "      <th>sales_and_office_occupations_tract</th>\n",
       "      <th>self_employed_class_tract</th>\n",
       "      <th>service_occupations_tract</th>\n",
       "      <th>transportation_warehousing_utilities_industries_tract</th>\n",
       "      <th>unemployment_tract</th>\n",
       "      <th>unpaid_family_workers_class_tract</th>\n",
       "      <th>wholesale_trade_industries_tract</th>\n",
       "      <th>working_poor_tract</th>\n",
       "      <th>Total_cap</th>\n",
       "    </tr>\n",
       "  </thead>\n",
       "  <tbody>\n",
       "    <tr>\n",
       "      <th>0</th>\n",
       "      <td>5000900</td>\n",
       "      <td>8</td>\n",
       "      <td>129</td>\n",
       "      <td>0</td>\n",
       "      <td>2.497010e+06</td>\n",
       "      <td>0.0</td>\n",
       "      <td>87.308534</td>\n",
       "      <td>39.449541</td>\n",
       "      <td>774.0</td>\n",
       "      <td>172.0</td>\n",
       "      <td>...</td>\n",
       "      <td>8.663366</td>\n",
       "      <td>21.782178</td>\n",
       "      <td>5.074257</td>\n",
       "      <td>22.896040</td>\n",
       "      <td>12.995050</td>\n",
       "      <td>5.790960</td>\n",
       "      <td>0.5</td>\n",
       "      <td>9.529703</td>\n",
       "      <td>3.836634</td>\n",
       "      <td>0.0</td>\n",
       "    </tr>\n",
       "    <tr>\n",
       "      <th>1</th>\n",
       "      <td>5007400</td>\n",
       "      <td>1</td>\n",
       "      <td>124</td>\n",
       "      <td>0</td>\n",
       "      <td>5.788238e+06</td>\n",
       "      <td>0.0</td>\n",
       "      <td>98.185643</td>\n",
       "      <td>0.571429</td>\n",
       "      <td>27.0</td>\n",
       "      <td>270.0</td>\n",
       "      <td>...</td>\n",
       "      <td>11.291822</td>\n",
       "      <td>21.514870</td>\n",
       "      <td>8.224907</td>\n",
       "      <td>28.624535</td>\n",
       "      <td>5.901487</td>\n",
       "      <td>5.554120</td>\n",
       "      <td>0.0</td>\n",
       "      <td>6.737918</td>\n",
       "      <td>5.669145</td>\n",
       "      <td>0.0</td>\n",
       "    </tr>\n",
       "    <tr>\n",
       "      <th>2</th>\n",
       "      <td>1009800</td>\n",
       "      <td>112</td>\n",
       "      <td>217</td>\n",
       "      <td>2</td>\n",
       "      <td>1.906016e+06</td>\n",
       "      <td>185.0</td>\n",
       "      <td>88.050222</td>\n",
       "      <td>1.631412</td>\n",
       "      <td>118.0</td>\n",
       "      <td>601.0</td>\n",
       "      <td>...</td>\n",
       "      <td>10.755993</td>\n",
       "      <td>31.878713</td>\n",
       "      <td>6.146282</td>\n",
       "      <td>5.121901</td>\n",
       "      <td>0.799017</td>\n",
       "      <td>2.078420</td>\n",
       "      <td>0.0</td>\n",
       "      <td>0.799017</td>\n",
       "      <td>0.614628</td>\n",
       "      <td>370.0</td>\n",
       "    </tr>\n",
       "    <tr>\n",
       "      <th>3</th>\n",
       "      <td>1010000</td>\n",
       "      <td>249</td>\n",
       "      <td>361</td>\n",
       "      <td>0</td>\n",
       "      <td>1.860938e+06</td>\n",
       "      <td>0.0</td>\n",
       "      <td>76.261128</td>\n",
       "      <td>1.204819</td>\n",
       "      <td>22.0</td>\n",
       "      <td>61.0</td>\n",
       "      <td>...</td>\n",
       "      <td>6.688155</td>\n",
       "      <td>22.481869</td>\n",
       "      <td>4.109589</td>\n",
       "      <td>4.512490</td>\n",
       "      <td>7.252216</td>\n",
       "      <td>4.350382</td>\n",
       "      <td>0.0</td>\n",
       "      <td>5.479452</td>\n",
       "      <td>6.204674</td>\n",
       "      <td>0.0</td>\n",
       "    </tr>\n",
       "    <tr>\n",
       "      <th>4</th>\n",
       "      <td>1010200</td>\n",
       "      <td>365</td>\n",
       "      <td>177</td>\n",
       "      <td>0</td>\n",
       "      <td>1.860993e+06</td>\n",
       "      <td>0.0</td>\n",
       "      <td>95.555556</td>\n",
       "      <td>1.777778</td>\n",
       "      <td>4.0</td>\n",
       "      <td>14.0</td>\n",
       "      <td>...</td>\n",
       "      <td>10.294118</td>\n",
       "      <td>16.176471</td>\n",
       "      <td>33.823529</td>\n",
       "      <td>0.000000</td>\n",
       "      <td>0.000000</td>\n",
       "      <td>0.000000</td>\n",
       "      <td>0.0</td>\n",
       "      <td>0.000000</td>\n",
       "      <td>0.000000</td>\n",
       "      <td>0.0</td>\n",
       "    </tr>\n",
       "  </tbody>\n",
       "</table>\n",
       "<p>5 rows × 170 columns</p>\n",
       "</div>"
      ],
      "text/plain": [
       "   BoroCT2010  homeless311_comp  Crime  homeless_shelters          Area  \\\n",
       "0     5000900                 8    129                  0  2.497010e+06   \n",
       "1     5007400                 1    124                  0  5.788238e+06   \n",
       "2     1009800               112    217                  2  1.906016e+06   \n",
       "3     1010000               249    361                  0  1.860938e+06   \n",
       "4     1010200               365    177                  0  1.860993e+06   \n",
       "\n",
       "   Capacity  adult_samehome_tract  aframer_pop_tract  aframer_total_pop_tract  \\\n",
       "0       0.0             87.308534          39.449541                    774.0   \n",
       "1       0.0             98.185643           0.571429                     27.0   \n",
       "2     185.0             88.050222           1.631412                    118.0   \n",
       "3       0.0             76.261128           1.204819                     22.0   \n",
       "4       0.0             95.555556           1.777778                      4.0   \n",
       "\n",
       "   age_pyramid_female_15_to_24_tract    ...      \\\n",
       "0                              172.0    ...       \n",
       "1                              270.0    ...       \n",
       "2                              601.0    ...       \n",
       "3                               61.0    ...       \n",
       "4                               14.0    ...       \n",
       "\n",
       "   retail_trade_industries_tract  sales_and_office_occupations_tract  \\\n",
       "0                       8.663366                           21.782178   \n",
       "1                      11.291822                           21.514870   \n",
       "2                      10.755993                           31.878713   \n",
       "3                       6.688155                           22.481869   \n",
       "4                      10.294118                           16.176471   \n",
       "\n",
       "   self_employed_class_tract  service_occupations_tract  \\\n",
       "0                   5.074257                  22.896040   \n",
       "1                   8.224907                  28.624535   \n",
       "2                   6.146282                   5.121901   \n",
       "3                   4.109589                   4.512490   \n",
       "4                  33.823529                   0.000000   \n",
       "\n",
       "   transportation_warehousing_utilities_industries_tract  unemployment_tract  \\\n",
       "0                                          12.995050                5.790960   \n",
       "1                                           5.901487                5.554120   \n",
       "2                                           0.799017                2.078420   \n",
       "3                                           7.252216                4.350382   \n",
       "4                                           0.000000                0.000000   \n",
       "\n",
       "   unpaid_family_workers_class_tract  wholesale_trade_industries_tract  \\\n",
       "0                                0.5                          9.529703   \n",
       "1                                0.0                          6.737918   \n",
       "2                                0.0                          0.799017   \n",
       "3                                0.0                          5.479452   \n",
       "4                                0.0                          0.000000   \n",
       "\n",
       "   working_poor_tract  Total_cap  \n",
       "0            3.836634        0.0  \n",
       "1            5.669145        0.0  \n",
       "2            0.614628      370.0  \n",
       "3            6.204674        0.0  \n",
       "4            0.000000        0.0  \n",
       "\n",
       "[5 rows x 170 columns]"
      ]
     },
     "execution_count": 45,
     "metadata": {},
     "output_type": "execute_result"
    }
   ],
   "source": [
    "df3.head(5)"
   ]
  },
  {
   "cell_type": "code",
   "execution_count": 47,
   "metadata": {
    "collapsed": false
   },
   "outputs": [],
   "source": [
    "df4 = df3.merge(nyu_hc[[\"BoroCT2010\",\"hotcold\"]],on=\"BoroCT2010\",how=\"inner\")"
   ]
  },
  {
   "cell_type": "code",
   "execution_count": 74,
   "metadata": {
    "collapsed": false
   },
   "outputs": [],
   "source": [
    "agg = df4\n",
    "for y in agg.columns:\n",
    "    if(agg[y].dtype == 'object'):\n",
    "        agg[y] = pd.to_numeric(agg[y].str.strip())\n"
   ]
  },
  {
   "cell_type": "code",
   "execution_count": 75,
   "metadata": {
    "collapsed": false
   },
   "outputs": [
    {
     "name": "stdout",
     "output_type": "stream",
     "text": [
      "<class 'pandas.core.frame.DataFrame'>\n",
      "Int64Index: 2166 entries, 0 to 2165\n",
      "Columns: 172 entries, BoroCT2010 to target\n",
      "dtypes: float64(167), int64(5)\n",
      "memory usage: 2.9 MB\n"
     ]
    }
   ],
   "source": [
    "df4.info(null_counts=True)\n"
   ]
  },
  {
   "cell_type": "code",
   "execution_count": 133,
   "metadata": {
    "collapsed": false
   },
   "outputs": [
    {
     "data": {
      "text/plain": [
       "array(['BoroCT2010', 'homeless311_comp', 'Crime', 'homeless_shelters',\n",
       "       'Area', 'Capacity', 'adult_samehome_tract', 'aframer_pop_tract',\n",
       "       'aframer_total_pop_tract', 'age_pyramid_female_15_to_24_tract',\n",
       "       'age_pyramid_female_25_to_34_tract',\n",
       "       'age_pyramid_female_35_to_44_tract',\n",
       "       'age_pyramid_female_45_to_54_tract',\n",
       "       'age_pyramid_female_5_to_14_tract',\n",
       "       'age_pyramid_female_55_to_64_tract',\n",
       "       'age_pyramid_female_65_to_74_tract',\n",
       "       'age_pyramid_female_75_to_84_tract',\n",
       "       'age_pyramid_female_85_plus_tract',\n",
       "       'age_pyramid_female_under_5_tract',\n",
       "       'age_pyramid_male_15_to_24_tract',\n",
       "       'age_pyramid_male_25_to_34_tract',\n",
       "       'age_pyramid_male_35_to_44_tract',\n",
       "       'age_pyramid_male_45_to_54_tract', 'age_pyramid_male_5_to_14_tract',\n",
       "       'age_pyramid_male_55_to_64_tract',\n",
       "       'age_pyramid_male_65_to_74_tract',\n",
       "       'age_pyramid_male_75_to_84_tract', 'age_pyramid_male_85_plus_tract',\n",
       "       'age_pyramid_male_under_5_tract', 'age_pyramid_total_tract',\n",
       "       'api_speaker_tract', 'asian_api_pop_tract',\n",
       "       'asian_api_pop_tract_historical', 'asian_api_total_tract',\n",
       "       'aus_nz_ocean_tract', 'badenglish_speakers_tract',\n",
       "       'black_pop_tract', 'black_pop_tract_historical', 'carib_amer_tract',\n",
       "       'cent_amer_tract', 'child_samehome_tract', 'cohabitating_tract',\n",
       "       'disabled_tract', 'divorced_tract', 'east_afr_tract',\n",
       "       'east_asia_tract', 'east_eur_tract', 'familychild_tract',\n",
       "       'fiji_ocean_tract', 'foreign_tract', 'grandrearers_tract',\n",
       "       'latino_pop_tract', 'latino_pop_tract_historical',\n",
       "       'latino_total_pop_tract', 'lonely_tract', 'lonelyaged_tract',\n",
       "       'marriedchild_tract', 'marriednochild_tract', 'mid_afr_tract',\n",
       "       'more_than_one_tract', 'natamer_pop_tract',\n",
       "       'natamer_total_pop_tract', 'native_amer_pop_tract_historical',\n",
       "       'native_tract', 'nec_afr_tract', 'nec_asia_tract', 'nec_eur_tract',\n",
       "       'nec_ocean_tract', 'nonenglish_speakers_tract',\n",
       "       'nonfamilychild_tract', 'north_afr_tract', 'north_amer_tract',\n",
       "       'north_eur_tract', 'other_pop_tract', 'other_pop_tract_historical',\n",
       "       'other_total_pop_tract', 'prime_age_tract', 'singledad_puma_tract',\n",
       "       'singlemom_tract', 'sixtyfive_tract', 'south_afr_tract',\n",
       "       'south_amer_tract', 'south_cen_asia_tract', 'south_east_asia_tract',\n",
       "       'south_eur_tract', 'spanish_speaker_tract',\n",
       "       'total_population_tract', 'total_population_tract_historical',\n",
       "       'undereighteen_tract', 'underfive_tract', 'west_afr_tract',\n",
       "       'west_asia_tract', 'west_eur_tract', 'white_pop_tract',\n",
       "       'white_pop_tract_historical', 'white_total_pop_tract',\n",
       "       'total_veterans_tract', 'female_veterans_tract',\n",
       "       'male_veterans_tract', 'veterans_percent_tract',\n",
       "       'male_veterans_percent_tract', 'female_veterans_percent_tract',\n",
       "       'at_least_bachelors_tract', 'at_least_bachelors_tract_historical',\n",
       "       'at_least_hs_tract', 'at_least_hs_tract_historical',\n",
       "       'complete_bach_tract', 'complete_hs_somecollege_tract',\n",
       "       'grad_degree_tract', 'no_hs_tract', 'no_hs_tract_historical',\n",
       "       'pre_k_tract', 'sch_enrol_tract', 'veterans_nohs_tract',\n",
       "       'veterans_bachelors_tract', 'veterans_nohs_percent_tract',\n",
       "       'veterans_bachelors_percent_tract',\n",
       "       'households_receiving_snap_benefits_tract', 'adult_medicaid_tract',\n",
       "       'children_with_medicaid_tract', 'ex_high_cost_h_tract',\n",
       "       'high_cost_h_tract', 'no_kitchen_tract', 'owner_occ_tract',\n",
       "       'rental_vac_tract', 'renter_occ_tract',\n",
       "       'agriculture_forestry_fishing_hunting_mining_industries_tract',\n",
       "       'arts_entertainment_recreation_accommodation_food_services_tract',\n",
       "       'average_commute_tract', 'commute_60_mins_plus_tract',\n",
       "       'construction_industries_tract',\n",
       "       'educational_services_health_care_social_assistance_industries_tract',\n",
       "       'finance_insurance_real_estate_rental_leasing_industries_tract',\n",
       "       'full_time_workers_tract', 'government_workers_class_tract',\n",
       "       'income_inequality_tract', 'income_inequality_tract_historical',\n",
       "       'information_industries_tract', 'labor_force_participation_tract',\n",
       "       'management_business_science_and_arts_occupations_tract',\n",
       "       'manufacturing_industries_tract', 'median_household_income_tract',\n",
       "       'median_personal_earnings_tract',\n",
       "       'median_personal_earnings_tract_historical', 'median_value_tract',\n",
       "       'natural_resources_construction_and_maintenance_occupations_tract',\n",
       "       'other_service_industries_tract', 'part_time_workers_tract',\n",
       "       'poverty_65_federal_number_tract',\n",
       "       'poverty_65_federal_percent_tract',\n",
       "       'poverty_all_ages_federal_number_tract',\n",
       "       'poverty_all_ages_federal_percent_tract',\n",
       "       'poverty_all_ages_federal_percent_tract_historical',\n",
       "       'poverty_child_federal_number_tract',\n",
       "       'poverty_child_federal_percent_tract',\n",
       "       'private_wage_and_salary_workers_class_tract',\n",
       "       'production_transportation_and_material_moving_occupations_tract',\n",
       "       'professional_scientific_management_administrative_waste_management_services_industries_tract',\n",
       "       'public_administration_industries_tract', 'publicassist_tract',\n",
       "       'retail_trade_industries_tract',\n",
       "       'sales_and_office_occupations_tract', 'self_employed_class_tract',\n",
       "       'service_occupations_tract',\n",
       "       'transportation_warehousing_utilities_industries_tract',\n",
       "       'unemployment_tract', 'unpaid_family_workers_class_tract',\n",
       "       'wholesale_trade_industries_tract', 'working_poor_tract',\n",
       "       'Total_cap', u'hotcold', 'target'], dtype=object)"
      ]
     },
     "execution_count": 133,
     "metadata": {},
     "output_type": "execute_result"
    }
   ],
   "source": [
    "df4.columns.values"
   ]
  },
  {
   "cell_type": "code",
   "execution_count": 132,
   "metadata": {
    "collapsed": false
   },
   "outputs": [
    {
     "data": {
      "text/plain": [
       "hotcold\n",
       "0    1594\n",
       "1      93\n",
       "2      50\n",
       "3     260\n",
       "4     169\n",
       "dtype: int64"
      ]
     },
     "execution_count": 132,
     "metadata": {},
     "output_type": "execute_result"
    }
   ],
   "source": [
    "df4.groupby(\"hotcold\").size()"
   ]
  },
  {
   "cell_type": "code",
   "execution_count": 205,
   "metadata": {
    "collapsed": false
   },
   "outputs": [],
   "source": [
    "agg[\"target\"] = agg[\"hotcold\"].map({3: \"1\", 2: \"1\", 1: \"0\", 4: \"1\",0:\"0\"})"
   ]
  },
  {
   "cell_type": "code",
   "execution_count": 212,
   "metadata": {
    "collapsed": false
   },
   "outputs": [
    {
     "data": {
      "text/plain": [
       "0       0\n",
       "1       1\n",
       "2       1\n",
       "3       1\n",
       "4       0\n",
       "5       0\n",
       "6       0\n",
       "7       1\n",
       "8       0\n",
       "9       1\n",
       "10      1\n",
       "11      1\n",
       "12      0\n",
       "13      0\n",
       "14      0\n",
       "15      1\n",
       "16      0\n",
       "17      1\n",
       "18      0\n",
       "19      0\n",
       "20      0\n",
       "21      0\n",
       "22      0\n",
       "23      0\n",
       "24      0\n",
       "25      0\n",
       "26      0\n",
       "27      0\n",
       "28      0\n",
       "29      0\n",
       "       ..\n",
       "2136    0\n",
       "2137    0\n",
       "2138    0\n",
       "2139    0\n",
       "2140    0\n",
       "2141    0\n",
       "2142    1\n",
       "2143    0\n",
       "2144    0\n",
       "2145    0\n",
       "2146    0\n",
       "2147    0\n",
       "2148    0\n",
       "2149    0\n",
       "2150    0\n",
       "2151    0\n",
       "2152    0\n",
       "2153    0\n",
       "2154    0\n",
       "2155    0\n",
       "2156    0\n",
       "2157    0\n",
       "2158    0\n",
       "2159    0\n",
       "2160    0\n",
       "2161    0\n",
       "2162    0\n",
       "2163    0\n",
       "2164    0\n",
       "2165    0\n",
       "Name: target, dtype: object"
      ]
     },
     "execution_count": 212,
     "metadata": {},
     "output_type": "execute_result"
    }
   ],
   "source": [
    "agg[\"target\"]"
   ]
  },
  {
   "cell_type": "code",
   "execution_count": 160,
   "metadata": {
    "collapsed": false
   },
   "outputs": [],
   "source": [
    "data = agg.drop([\"hotcold\",\"Total_cap\",\"target\",\"BoroCT2010\"],axis=1).fillna(0)"
   ]
  },
  {
   "cell_type": "code",
   "execution_count": 158,
   "metadata": {
    "collapsed": false
   },
   "outputs": [
    {
     "name": "stdout",
     "output_type": "stream",
     "text": [
      "<class 'pandas.core.frame.DataFrame'>\n",
      "Int64Index: 2166 entries, 0 to 2165\n",
      "Columns: 169 entries, BoroCT2010 to working_poor_tract\n",
      "dtypes: float64(165), int64(4)\n",
      "memory usage: 2.8 MB\n"
     ]
    }
   ],
   "source": [
    "data.info()"
   ]
  },
  {
   "cell_type": "code",
   "execution_count": 159,
   "metadata": {
    "collapsed": false
   },
   "outputs": [
    {
     "data": {
      "text/html": [
       "<div>\n",
       "<table border=\"1\" class=\"dataframe\">\n",
       "  <thead>\n",
       "    <tr style=\"text-align: right;\">\n",
       "      <th></th>\n",
       "      <th>BoroCT2010</th>\n",
       "      <th>homeless311_comp</th>\n",
       "      <th>Crime</th>\n",
       "      <th>homeless_shelters</th>\n",
       "      <th>Area</th>\n",
       "      <th>Capacity</th>\n",
       "      <th>adult_samehome_tract</th>\n",
       "      <th>aframer_pop_tract</th>\n",
       "      <th>aframer_total_pop_tract</th>\n",
       "      <th>age_pyramid_female_15_to_24_tract</th>\n",
       "      <th>...</th>\n",
       "      <th>publicassist_tract</th>\n",
       "      <th>retail_trade_industries_tract</th>\n",
       "      <th>sales_and_office_occupations_tract</th>\n",
       "      <th>self_employed_class_tract</th>\n",
       "      <th>service_occupations_tract</th>\n",
       "      <th>transportation_warehousing_utilities_industries_tract</th>\n",
       "      <th>unemployment_tract</th>\n",
       "      <th>unpaid_family_workers_class_tract</th>\n",
       "      <th>wholesale_trade_industries_tract</th>\n",
       "      <th>working_poor_tract</th>\n",
       "    </tr>\n",
       "  </thead>\n",
       "  <tbody>\n",
       "    <tr>\n",
       "      <th>0</th>\n",
       "      <td>5000900</td>\n",
       "      <td>8</td>\n",
       "      <td>129</td>\n",
       "      <td>0</td>\n",
       "      <td>2.497010e+06</td>\n",
       "      <td>0.0</td>\n",
       "      <td>87.308534</td>\n",
       "      <td>39.449541</td>\n",
       "      <td>774.0</td>\n",
       "      <td>172.0</td>\n",
       "      <td>...</td>\n",
       "      <td>10.287443</td>\n",
       "      <td>8.663366</td>\n",
       "      <td>21.782178</td>\n",
       "      <td>5.074257</td>\n",
       "      <td>22.896040</td>\n",
       "      <td>12.995050</td>\n",
       "      <td>5.790960</td>\n",
       "      <td>0.5</td>\n",
       "      <td>9.529703</td>\n",
       "      <td>3.836634</td>\n",
       "    </tr>\n",
       "    <tr>\n",
       "      <th>1</th>\n",
       "      <td>5007400</td>\n",
       "      <td>1</td>\n",
       "      <td>124</td>\n",
       "      <td>0</td>\n",
       "      <td>5.788238e+06</td>\n",
       "      <td>0.0</td>\n",
       "      <td>98.185643</td>\n",
       "      <td>0.571429</td>\n",
       "      <td>27.0</td>\n",
       "      <td>270.0</td>\n",
       "      <td>...</td>\n",
       "      <td>3.903346</td>\n",
       "      <td>11.291822</td>\n",
       "      <td>21.514870</td>\n",
       "      <td>8.224907</td>\n",
       "      <td>28.624535</td>\n",
       "      <td>5.901487</td>\n",
       "      <td>5.554120</td>\n",
       "      <td>0.0</td>\n",
       "      <td>6.737918</td>\n",
       "      <td>5.669145</td>\n",
       "    </tr>\n",
       "    <tr>\n",
       "      <th>2</th>\n",
       "      <td>1009800</td>\n",
       "      <td>112</td>\n",
       "      <td>217</td>\n",
       "      <td>2</td>\n",
       "      <td>1.906016e+06</td>\n",
       "      <td>185.0</td>\n",
       "      <td>88.050222</td>\n",
       "      <td>1.631412</td>\n",
       "      <td>118.0</td>\n",
       "      <td>601.0</td>\n",
       "      <td>...</td>\n",
       "      <td>1.261604</td>\n",
       "      <td>10.755993</td>\n",
       "      <td>31.878713</td>\n",
       "      <td>6.146282</td>\n",
       "      <td>5.121901</td>\n",
       "      <td>0.799017</td>\n",
       "      <td>2.078420</td>\n",
       "      <td>0.0</td>\n",
       "      <td>0.799017</td>\n",
       "      <td>0.614628</td>\n",
       "    </tr>\n",
       "    <tr>\n",
       "      <th>3</th>\n",
       "      <td>1010000</td>\n",
       "      <td>249</td>\n",
       "      <td>361</td>\n",
       "      <td>0</td>\n",
       "      <td>1.860938e+06</td>\n",
       "      <td>0.0</td>\n",
       "      <td>76.261128</td>\n",
       "      <td>1.204819</td>\n",
       "      <td>22.0</td>\n",
       "      <td>61.0</td>\n",
       "      <td>...</td>\n",
       "      <td>1.396878</td>\n",
       "      <td>6.688155</td>\n",
       "      <td>22.481869</td>\n",
       "      <td>4.109589</td>\n",
       "      <td>4.512490</td>\n",
       "      <td>7.252216</td>\n",
       "      <td>4.350382</td>\n",
       "      <td>0.0</td>\n",
       "      <td>5.479452</td>\n",
       "      <td>6.204674</td>\n",
       "    </tr>\n",
       "    <tr>\n",
       "      <th>4</th>\n",
       "      <td>1010200</td>\n",
       "      <td>365</td>\n",
       "      <td>177</td>\n",
       "      <td>0</td>\n",
       "      <td>1.860993e+06</td>\n",
       "      <td>0.0</td>\n",
       "      <td>95.555556</td>\n",
       "      <td>1.777778</td>\n",
       "      <td>4.0</td>\n",
       "      <td>14.0</td>\n",
       "      <td>...</td>\n",
       "      <td>0.000000</td>\n",
       "      <td>10.294118</td>\n",
       "      <td>16.176471</td>\n",
       "      <td>33.823529</td>\n",
       "      <td>0.000000</td>\n",
       "      <td>0.000000</td>\n",
       "      <td>0.000000</td>\n",
       "      <td>0.0</td>\n",
       "      <td>0.000000</td>\n",
       "      <td>0.000000</td>\n",
       "    </tr>\n",
       "  </tbody>\n",
       "</table>\n",
       "<p>5 rows × 169 columns</p>\n",
       "</div>"
      ],
      "text/plain": [
       "   BoroCT2010  homeless311_comp  Crime  homeless_shelters          Area  \\\n",
       "0     5000900                 8    129                  0  2.497010e+06   \n",
       "1     5007400                 1    124                  0  5.788238e+06   \n",
       "2     1009800               112    217                  2  1.906016e+06   \n",
       "3     1010000               249    361                  0  1.860938e+06   \n",
       "4     1010200               365    177                  0  1.860993e+06   \n",
       "\n",
       "   Capacity  adult_samehome_tract  aframer_pop_tract  aframer_total_pop_tract  \\\n",
       "0       0.0             87.308534          39.449541                    774.0   \n",
       "1       0.0             98.185643           0.571429                     27.0   \n",
       "2     185.0             88.050222           1.631412                    118.0   \n",
       "3       0.0             76.261128           1.204819                     22.0   \n",
       "4       0.0             95.555556           1.777778                      4.0   \n",
       "\n",
       "   age_pyramid_female_15_to_24_tract         ...          publicassist_tract  \\\n",
       "0                              172.0         ...                   10.287443   \n",
       "1                              270.0         ...                    3.903346   \n",
       "2                              601.0         ...                    1.261604   \n",
       "3                               61.0         ...                    1.396878   \n",
       "4                               14.0         ...                    0.000000   \n",
       "\n",
       "   retail_trade_industries_tract  sales_and_office_occupations_tract  \\\n",
       "0                       8.663366                           21.782178   \n",
       "1                      11.291822                           21.514870   \n",
       "2                      10.755993                           31.878713   \n",
       "3                       6.688155                           22.481869   \n",
       "4                      10.294118                           16.176471   \n",
       "\n",
       "   self_employed_class_tract  service_occupations_tract  \\\n",
       "0                   5.074257                  22.896040   \n",
       "1                   8.224907                  28.624535   \n",
       "2                   6.146282                   5.121901   \n",
       "3                   4.109589                   4.512490   \n",
       "4                  33.823529                   0.000000   \n",
       "\n",
       "   transportation_warehousing_utilities_industries_tract  unemployment_tract  \\\n",
       "0                                          12.995050                5.790960   \n",
       "1                                           5.901487                5.554120   \n",
       "2                                           0.799017                2.078420   \n",
       "3                                           7.252216                4.350382   \n",
       "4                                           0.000000                0.000000   \n",
       "\n",
       "   unpaid_family_workers_class_tract  wholesale_trade_industries_tract  \\\n",
       "0                                0.5                          9.529703   \n",
       "1                                0.0                          6.737918   \n",
       "2                                0.0                          0.799017   \n",
       "3                                0.0                          5.479452   \n",
       "4                                0.0                          0.000000   \n",
       "\n",
       "   working_poor_tract  \n",
       "0            3.836634  \n",
       "1            5.669145  \n",
       "2            0.614628  \n",
       "3            6.204674  \n",
       "4            0.000000  \n",
       "\n",
       "[5 rows x 169 columns]"
      ]
     },
     "execution_count": 159,
     "metadata": {},
     "output_type": "execute_result"
    }
   ],
   "source": [
    "data.head(5)"
   ]
  },
  {
   "cell_type": "code",
   "execution_count": 202,
   "metadata": {
    "collapsed": true
   },
   "outputs": [],
   "source": [
    "target = agg[\"target\"].fillna(0)"
   ]
  },
  {
   "cell_type": "code",
   "execution_count": 209,
   "metadata": {
    "collapsed": false
   },
   "outputs": [
    {
     "name": "stderr",
     "output_type": "stream",
     "text": [
      "/Users/Henrilin28/.pyenv/versions/2.7.8/envs/virtual_2.7/lib/python2.7/site-packages/sklearn/utils/deprecation.py:70: DeprecationWarning:\n",
      "\n",
      "Function transform is deprecated; Support to use estimators as feature selectors will be removed in version 0.19. Use SelectFromModel instead.\n",
      "\n",
      "/Users/Henrilin28/.pyenv/versions/2.7.8/envs/virtual_2.7/lib/python2.7/site-packages/sklearn/utils/deprecation.py:70: DeprecationWarning:\n",
      "\n",
      "Function transform is deprecated; Support to use estimators as feature selectors will be removed in version 0.19. Use SelectFromModel instead.\n",
      "\n",
      "/Users/Henrilin28/.pyenv/versions/2.7.8/envs/virtual_2.7/lib/python2.7/site-packages/sklearn/utils/deprecation.py:70: DeprecationWarning:\n",
      "\n",
      "Function transform is deprecated; Support to use estimators as feature selectors will be removed in version 0.19. Use SelectFromModel instead.\n",
      "\n",
      "/Users/Henrilin28/.pyenv/versions/2.7.8/envs/virtual_2.7/lib/python2.7/site-packages/sklearn/utils/deprecation.py:70: DeprecationWarning:\n",
      "\n",
      "Function transform is deprecated; Support to use estimators as feature selectors will be removed in version 0.19. Use SelectFromModel instead.\n",
      "\n",
      "/Users/Henrilin28/.pyenv/versions/2.7.8/envs/virtual_2.7/lib/python2.7/site-packages/sklearn/utils/deprecation.py:70: DeprecationWarning:\n",
      "\n",
      "Function transform is deprecated; Support to use estimators as feature selectors will be removed in version 0.19. Use SelectFromModel instead.\n",
      "\n",
      "/Users/Henrilin28/.pyenv/versions/2.7.8/envs/virtual_2.7/lib/python2.7/site-packages/sklearn/utils/deprecation.py:70: DeprecationWarning:\n",
      "\n",
      "Function transform is deprecated; Support to use estimators as feature selectors will be removed in version 0.19. Use SelectFromModel instead.\n",
      "\n",
      "/Users/Henrilin28/.pyenv/versions/2.7.8/envs/virtual_2.7/lib/python2.7/site-packages/sklearn/utils/deprecation.py:70: DeprecationWarning:\n",
      "\n",
      "Function transform is deprecated; Support to use estimators as feature selectors will be removed in version 0.19. Use SelectFromModel instead.\n",
      "\n",
      "/Users/Henrilin28/.pyenv/versions/2.7.8/envs/virtual_2.7/lib/python2.7/site-packages/sklearn/utils/deprecation.py:70: DeprecationWarning:\n",
      "\n",
      "Function transform is deprecated; Support to use estimators as feature selectors will be removed in version 0.19. Use SelectFromModel instead.\n",
      "\n",
      "/Users/Henrilin28/.pyenv/versions/2.7.8/envs/virtual_2.7/lib/python2.7/site-packages/sklearn/utils/deprecation.py:70: DeprecationWarning:\n",
      "\n",
      "Function transform is deprecated; Support to use estimators as feature selectors will be removed in version 0.19. Use SelectFromModel instead.\n",
      "\n",
      "/Users/Henrilin28/.pyenv/versions/2.7.8/envs/virtual_2.7/lib/python2.7/site-packages/sklearn/utils/deprecation.py:70: DeprecationWarning:\n",
      "\n",
      "Function transform is deprecated; Support to use estimators as feature selectors will be removed in version 0.19. Use SelectFromModel instead.\n",
      "\n",
      "/Users/Henrilin28/.pyenv/versions/2.7.8/envs/virtual_2.7/lib/python2.7/site-packages/sklearn/utils/deprecation.py:70: DeprecationWarning:\n",
      "\n",
      "Function transform is deprecated; Support to use estimators as feature selectors will be removed in version 0.19. Use SelectFromModel instead.\n",
      "\n",
      "/Users/Henrilin28/.pyenv/versions/2.7.8/envs/virtual_2.7/lib/python2.7/site-packages/sklearn/utils/deprecation.py:70: DeprecationWarning:\n",
      "\n",
      "Function transform is deprecated; Support to use estimators as feature selectors will be removed in version 0.19. Use SelectFromModel instead.\n",
      "\n",
      "/Users/Henrilin28/.pyenv/versions/2.7.8/envs/virtual_2.7/lib/python2.7/site-packages/sklearn/utils/deprecation.py:70: DeprecationWarning:\n",
      "\n",
      "Function transform is deprecated; Support to use estimators as feature selectors will be removed in version 0.19. Use SelectFromModel instead.\n",
      "\n",
      "/Users/Henrilin28/.pyenv/versions/2.7.8/envs/virtual_2.7/lib/python2.7/site-packages/sklearn/utils/deprecation.py:70: DeprecationWarning:\n",
      "\n",
      "Function transform is deprecated; Support to use estimators as feature selectors will be removed in version 0.19. Use SelectFromModel instead.\n",
      "\n",
      "/Users/Henrilin28/.pyenv/versions/2.7.8/envs/virtual_2.7/lib/python2.7/site-packages/sklearn/utils/deprecation.py:70: DeprecationWarning:\n",
      "\n",
      "Function transform is deprecated; Support to use estimators as feature selectors will be removed in version 0.19. Use SelectFromModel instead.\n",
      "\n",
      "/Users/Henrilin28/.pyenv/versions/2.7.8/envs/virtual_2.7/lib/python2.7/site-packages/sklearn/utils/deprecation.py:70: DeprecationWarning:\n",
      "\n",
      "Function transform is deprecated; Support to use estimators as feature selectors will be removed in version 0.19. Use SelectFromModel instead.\n",
      "\n",
      "/Users/Henrilin28/.pyenv/versions/2.7.8/envs/virtual_2.7/lib/python2.7/site-packages/sklearn/utils/deprecation.py:70: DeprecationWarning:\n",
      "\n",
      "Function transform is deprecated; Support to use estimators as feature selectors will be removed in version 0.19. Use SelectFromModel instead.\n",
      "\n",
      "/Users/Henrilin28/.pyenv/versions/2.7.8/envs/virtual_2.7/lib/python2.7/site-packages/sklearn/utils/deprecation.py:70: DeprecationWarning:\n",
      "\n",
      "Function transform is deprecated; Support to use estimators as feature selectors will be removed in version 0.19. Use SelectFromModel instead.\n",
      "\n",
      "/Users/Henrilin28/.pyenv/versions/2.7.8/envs/virtual_2.7/lib/python2.7/site-packages/sklearn/utils/deprecation.py:70: DeprecationWarning:\n",
      "\n",
      "Function transform is deprecated; Support to use estimators as feature selectors will be removed in version 0.19. Use SelectFromModel instead.\n",
      "\n",
      "/Users/Henrilin28/.pyenv/versions/2.7.8/envs/virtual_2.7/lib/python2.7/site-packages/sklearn/utils/deprecation.py:70: DeprecationWarning:\n",
      "\n",
      "Function transform is deprecated; Support to use estimators as feature selectors will be removed in version 0.19. Use SelectFromModel instead.\n",
      "\n"
     ]
    },
    {
     "name": "stdout",
     "output_type": "stream",
     "text": [
      "[ 0.75576037  0.73271889  0.70506912  0.71428571  0.73271889  0.75576037\n",
      "  0.77314815  0.72222222  0.68518519  0.76388889]\n"
     ]
    }
   ],
   "source": [
    "from pandas import read_csv\n",
    "from sklearn.cross_validation import KFold\n",
    "from sklearn.cross_validation import train_test_split\n",
    "from sklearn import svm\n",
    "from sklearn.ensemble import RandomForestClassifier\n",
    "from sklearn.neighbors import KNeighborsClassifier\n",
    "\n",
    "\n",
    "from sklearn.cross_validation import cross_val_score\n",
    "from sklearn.pipeline import Pipeline\n",
    "from sklearn.pipeline import FeatureUnion\n",
    "from sklearn.linear_model import LogisticRegression\n",
    "from sklearn.decomposition import PCA\n",
    "from sklearn.feature_selection import SelectKBest\n",
    "\n",
    "\n",
    "# load data\n",
    "X = data\n",
    "Y = target.fillna(0).astype(int)\n",
    "# create feature union\n",
    "features = []\n",
    "features.append(('pca', PCA(n_components=3)))\n",
    "features.append(('select_best', SelectKBest(k=6)))\n",
    "feature_union = FeatureUnion(features)\n",
    "# create pipeline\n",
    "estimators = []\n",
    "#estimators.append(('feature_union', feature_union))\n",
    "#estimators.append(('pca', PCA(n_components=3)))\n",
    "estimators.append(('select_best', SelectKBest(k=6)))\n",
    "estimators.append(('randomforest', RandomForestClassifier(n_jobs=100)))\n",
    "estimators.append(('svm', svm.SVC()))\n",
    "\n",
    "model = Pipeline(estimators)\n",
    "# evaluate pipeline\n",
    "num_folds = 10\n",
    "num_instances = len(X)\n",
    "seed = 7\n",
    "kfold = KFold(n=num_instances, n_folds=num_folds, random_state=seed)\n",
    "results = cross_val_score(model, X, Y, cv=kfold)\n",
    "print(results)\n",
    "#X_train, X_test, y_train, y_test = train_test_split(X, Y, test_size=0.33, random_state=42)\n",
    "#print \"\\t{}\".format(X_train.columns[cv.get_support()])"
   ]
  },
  {
   "cell_type": "code",
   "execution_count": 213,
   "metadata": {
    "collapsed": false
   },
   "outputs": [
    {
     "data": {
      "text/plain": [
       "0       0\n",
       "1       1\n",
       "2       1\n",
       "3       1\n",
       "4       0\n",
       "5       0\n",
       "6       0\n",
       "7       1\n",
       "8       0\n",
       "9       1\n",
       "10      1\n",
       "11      1\n",
       "12      0\n",
       "13      0\n",
       "14      0\n",
       "15      1\n",
       "16      0\n",
       "17      1\n",
       "18      0\n",
       "19      0\n",
       "20      0\n",
       "21      0\n",
       "22      0\n",
       "23      0\n",
       "24      0\n",
       "25      0\n",
       "26      0\n",
       "27      0\n",
       "28      0\n",
       "29      0\n",
       "       ..\n",
       "2136    0\n",
       "2137    0\n",
       "2138    0\n",
       "2139    0\n",
       "2140    0\n",
       "2141    0\n",
       "2142    1\n",
       "2143    0\n",
       "2144    0\n",
       "2145    0\n",
       "2146    0\n",
       "2147    0\n",
       "2148    0\n",
       "2149    0\n",
       "2150    0\n",
       "2151    0\n",
       "2152    0\n",
       "2153    0\n",
       "2154    0\n",
       "2155    0\n",
       "2156    0\n",
       "2157    0\n",
       "2158    0\n",
       "2159    0\n",
       "2160    0\n",
       "2161    0\n",
       "2162    0\n",
       "2163    0\n",
       "2164    0\n",
       "2165    0\n",
       "Name: target, dtype: object"
      ]
     },
     "execution_count": 213,
     "metadata": {},
     "output_type": "execute_result"
    }
   ],
   "source": [
    "Y = agg[\"target\"]\n",
    "Y"
   ]
  },
  {
   "cell_type": "code",
   "execution_count": 234,
   "metadata": {
    "collapsed": false
   },
   "outputs": [
    {
     "name": "stdout",
     "output_type": "stream",
     "text": [
      "             precision    recall  f1-score   support\n",
      "\n",
      "          0       0.84      0.97      0.90       548\n",
      "          1       0.82      0.38      0.52       167\n",
      "\n",
      "avg / total       0.83      0.83      0.81       715\n",
      "\n"
     ]
    }
   ],
   "source": [
    "import sklearn.pipeline\n",
    "\n",
    "std =  StandardScaler()\n",
    "select = sklearn.feature_selection.SelectKBest(k=100)\n",
    "clf = sklearn.ensemble.RandomForestClassifier()\n",
    "\n",
    "steps = [(('normalize'),std), ('feature_selection', select),\n",
    "        ('randomforest', RandomForestClassifier(n_jobs=100, n_estimators=100, min_samples_split=10))]\n",
    "\n",
    "pipeline = sklearn.pipeline.Pipeline(steps)\n",
    "\n",
    "X_train, X_test, y_train, y_test = sklearn.cross_validation.train_test_split(X, Y, test_size=0.33, random_state=42)\n",
    "\n",
    "### fit your pipeline on X_train and y_train\n",
    "pipeline.fit( X_train, y_train )\n",
    "### call pipeline.predict() on your X_test data to make a set of test predictions\n",
    "y_prediction = pipeline.predict( X_test )\n",
    "### test your predictions using sklearn.classification_report()\n",
    "report = sklearn.metrics.classification_report( y_test, y_prediction )\n",
    "### and print the report\n",
    "print(report)"
   ]
  },
  {
   "cell_type": "code",
   "execution_count": 125,
   "metadata": {
    "collapsed": false
   },
   "outputs": [
    {
     "data": {
      "text/plain": [
       "SelectKBest(k=20, score_func=<function f_classif at 0x114283500>)"
      ]
     },
     "execution_count": 125,
     "metadata": {},
     "output_type": "execute_result"
    }
   ],
   "source": [
    "select"
   ]
  },
  {
   "cell_type": "code",
   "execution_count": 233,
   "metadata": {
    "collapsed": false
   },
   "outputs": [
    {
     "ename": "ValueError",
     "evalue": "Invalid parameter random_forest for estimator Pipeline(steps=[('normalize', StandardScaler(copy=True, with_mean=True, with_std=True)), ('feature_selection', SelectKBest(k=10, score_func=<function f_classif at 0x114283500>)), ('randomforest', RandomForestClassifier(bootstrap=True, class_weight=None, criterion='gini',\n            max_depth=None, max_featu...ators=10, n_jobs=100, oob_score=False,\n            random_state=None, verbose=0, warm_start=False))]). Check the list of available parameters with `estimator.get_params().keys()`.",
     "output_type": "error",
     "traceback": [
      "\u001b[0;31m---------------------------------------------------------------------------\u001b[0m",
      "\u001b[0;31mValueError\u001b[0m                                Traceback (most recent call last)",
      "\u001b[0;32m<ipython-input-233-c619653bf9ef>\u001b[0m in \u001b[0;36m<module>\u001b[0;34m()\u001b[0m\n\u001b[1;32m      8\u001b[0m \u001b[0mcv\u001b[0m \u001b[0;34m=\u001b[0m \u001b[0msklearn\u001b[0m\u001b[0;34m.\u001b[0m\u001b[0mgrid_search\u001b[0m\u001b[0;34m.\u001b[0m\u001b[0mGridSearchCV\u001b[0m\u001b[0;34m(\u001b[0m\u001b[0mpipeline\u001b[0m\u001b[0;34m,\u001b[0m \u001b[0mparam_grid\u001b[0m\u001b[0;34m=\u001b[0m\u001b[0mparameters\u001b[0m\u001b[0;34m)\u001b[0m\u001b[0;34m\u001b[0m\u001b[0m\n\u001b[1;32m      9\u001b[0m \u001b[0;34m\u001b[0m\u001b[0m\n\u001b[0;32m---> 10\u001b[0;31m \u001b[0mcv\u001b[0m\u001b[0;34m.\u001b[0m\u001b[0mfit\u001b[0m\u001b[0;34m(\u001b[0m\u001b[0mX_train\u001b[0m\u001b[0;34m,\u001b[0m \u001b[0my_train\u001b[0m\u001b[0;34m)\u001b[0m\u001b[0;34m\u001b[0m\u001b[0m\n\u001b[0m\u001b[1;32m     11\u001b[0m \u001b[0my_predictions\u001b[0m \u001b[0;34m=\u001b[0m \u001b[0mcv\u001b[0m\u001b[0;34m.\u001b[0m\u001b[0mpredict\u001b[0m\u001b[0;34m(\u001b[0m\u001b[0mX_test\u001b[0m\u001b[0;34m)\u001b[0m\u001b[0;34m\u001b[0m\u001b[0m\n\u001b[1;32m     12\u001b[0m \u001b[0mreport\u001b[0m \u001b[0;34m=\u001b[0m \u001b[0msklearn\u001b[0m\u001b[0;34m.\u001b[0m\u001b[0mmetrics\u001b[0m\u001b[0;34m.\u001b[0m\u001b[0mclassification_report\u001b[0m\u001b[0;34m(\u001b[0m \u001b[0my_test\u001b[0m\u001b[0;34m,\u001b[0m \u001b[0my_predictions\u001b[0m \u001b[0;34m)\u001b[0m\u001b[0;34m\u001b[0m\u001b[0m\n",
      "\u001b[0;32m/Users/Henrilin28/.pyenv/versions/2.7.8/envs/virtual_2.7/lib/python2.7/site-packages/sklearn/grid_search.pyc\u001b[0m in \u001b[0;36mfit\u001b[0;34m(self, X, y)\u001b[0m\n\u001b[1;32m    811\u001b[0m \u001b[0;34m\u001b[0m\u001b[0m\n\u001b[1;32m    812\u001b[0m         \"\"\"\n\u001b[0;32m--> 813\u001b[0;31m         \u001b[0;32mreturn\u001b[0m \u001b[0mself\u001b[0m\u001b[0;34m.\u001b[0m\u001b[0m_fit\u001b[0m\u001b[0;34m(\u001b[0m\u001b[0mX\u001b[0m\u001b[0;34m,\u001b[0m \u001b[0my\u001b[0m\u001b[0;34m,\u001b[0m \u001b[0mParameterGrid\u001b[0m\u001b[0;34m(\u001b[0m\u001b[0mself\u001b[0m\u001b[0;34m.\u001b[0m\u001b[0mparam_grid\u001b[0m\u001b[0;34m)\u001b[0m\u001b[0;34m)\u001b[0m\u001b[0;34m\u001b[0m\u001b[0m\n\u001b[0m\u001b[1;32m    814\u001b[0m \u001b[0;34m\u001b[0m\u001b[0m\n\u001b[1;32m    815\u001b[0m \u001b[0;34m\u001b[0m\u001b[0m\n",
      "\u001b[0;32m/Users/Henrilin28/.pyenv/versions/2.7.8/envs/virtual_2.7/lib/python2.7/site-packages/sklearn/grid_search.pyc\u001b[0m in \u001b[0;36m_fit\u001b[0;34m(self, X, y, parameter_iterable)\u001b[0m\n\u001b[1;32m    559\u001b[0m                                     \u001b[0mself\u001b[0m\u001b[0;34m.\u001b[0m\u001b[0mfit_params\u001b[0m\u001b[0;34m,\u001b[0m \u001b[0mreturn_parameters\u001b[0m\u001b[0;34m=\u001b[0m\u001b[0mTrue\u001b[0m\u001b[0;34m,\u001b[0m\u001b[0;34m\u001b[0m\u001b[0m\n\u001b[1;32m    560\u001b[0m                                     error_score=self.error_score)\n\u001b[0;32m--> 561\u001b[0;31m                 \u001b[0;32mfor\u001b[0m \u001b[0mparameters\u001b[0m \u001b[0;32min\u001b[0m \u001b[0mparameter_iterable\u001b[0m\u001b[0;34m\u001b[0m\u001b[0m\n\u001b[0m\u001b[1;32m    562\u001b[0m                 for train, test in cv)\n\u001b[1;32m    563\u001b[0m \u001b[0;34m\u001b[0m\u001b[0m\n",
      "\u001b[0;32m/Users/Henrilin28/.pyenv/versions/2.7.8/envs/virtual_2.7/lib/python2.7/site-packages/sklearn/externals/joblib/parallel.pyc\u001b[0m in \u001b[0;36m__call__\u001b[0;34m(self, iterable)\u001b[0m\n\u001b[1;32m    756\u001b[0m             \u001b[0;31m# was dispatched. In particular this covers the edge\u001b[0m\u001b[0;34m\u001b[0m\u001b[0;34m\u001b[0m\u001b[0m\n\u001b[1;32m    757\u001b[0m             \u001b[0;31m# case of Parallel used with an exhausted iterator.\u001b[0m\u001b[0;34m\u001b[0m\u001b[0;34m\u001b[0m\u001b[0m\n\u001b[0;32m--> 758\u001b[0;31m             \u001b[0;32mwhile\u001b[0m \u001b[0mself\u001b[0m\u001b[0;34m.\u001b[0m\u001b[0mdispatch_one_batch\u001b[0m\u001b[0;34m(\u001b[0m\u001b[0miterator\u001b[0m\u001b[0;34m)\u001b[0m\u001b[0;34m:\u001b[0m\u001b[0;34m\u001b[0m\u001b[0m\n\u001b[0m\u001b[1;32m    759\u001b[0m                 \u001b[0mself\u001b[0m\u001b[0;34m.\u001b[0m\u001b[0m_iterating\u001b[0m \u001b[0;34m=\u001b[0m \u001b[0mTrue\u001b[0m\u001b[0;34m\u001b[0m\u001b[0m\n\u001b[1;32m    760\u001b[0m             \u001b[0;32melse\u001b[0m\u001b[0;34m:\u001b[0m\u001b[0;34m\u001b[0m\u001b[0m\n",
      "\u001b[0;32m/Users/Henrilin28/.pyenv/versions/2.7.8/envs/virtual_2.7/lib/python2.7/site-packages/sklearn/externals/joblib/parallel.pyc\u001b[0m in \u001b[0;36mdispatch_one_batch\u001b[0;34m(self, iterator)\u001b[0m\n\u001b[1;32m    606\u001b[0m                 \u001b[0;32mreturn\u001b[0m \u001b[0mFalse\u001b[0m\u001b[0;34m\u001b[0m\u001b[0m\n\u001b[1;32m    607\u001b[0m             \u001b[0;32melse\u001b[0m\u001b[0;34m:\u001b[0m\u001b[0;34m\u001b[0m\u001b[0m\n\u001b[0;32m--> 608\u001b[0;31m                 \u001b[0mself\u001b[0m\u001b[0;34m.\u001b[0m\u001b[0m_dispatch\u001b[0m\u001b[0;34m(\u001b[0m\u001b[0mtasks\u001b[0m\u001b[0;34m)\u001b[0m\u001b[0;34m\u001b[0m\u001b[0m\n\u001b[0m\u001b[1;32m    609\u001b[0m                 \u001b[0;32mreturn\u001b[0m \u001b[0mTrue\u001b[0m\u001b[0;34m\u001b[0m\u001b[0m\n\u001b[1;32m    610\u001b[0m \u001b[0;34m\u001b[0m\u001b[0m\n",
      "\u001b[0;32m/Users/Henrilin28/.pyenv/versions/2.7.8/envs/virtual_2.7/lib/python2.7/site-packages/sklearn/externals/joblib/parallel.pyc\u001b[0m in \u001b[0;36m_dispatch\u001b[0;34m(self, batch)\u001b[0m\n\u001b[1;32m    569\u001b[0m         \u001b[0mdispatch_timestamp\u001b[0m \u001b[0;34m=\u001b[0m \u001b[0mtime\u001b[0m\u001b[0;34m.\u001b[0m\u001b[0mtime\u001b[0m\u001b[0;34m(\u001b[0m\u001b[0;34m)\u001b[0m\u001b[0;34m\u001b[0m\u001b[0m\n\u001b[1;32m    570\u001b[0m         \u001b[0mcb\u001b[0m \u001b[0;34m=\u001b[0m \u001b[0mBatchCompletionCallBack\u001b[0m\u001b[0;34m(\u001b[0m\u001b[0mdispatch_timestamp\u001b[0m\u001b[0;34m,\u001b[0m \u001b[0mlen\u001b[0m\u001b[0;34m(\u001b[0m\u001b[0mbatch\u001b[0m\u001b[0;34m)\u001b[0m\u001b[0;34m,\u001b[0m \u001b[0mself\u001b[0m\u001b[0;34m)\u001b[0m\u001b[0;34m\u001b[0m\u001b[0m\n\u001b[0;32m--> 571\u001b[0;31m         \u001b[0mjob\u001b[0m \u001b[0;34m=\u001b[0m \u001b[0mself\u001b[0m\u001b[0;34m.\u001b[0m\u001b[0m_backend\u001b[0m\u001b[0;34m.\u001b[0m\u001b[0mapply_async\u001b[0m\u001b[0;34m(\u001b[0m\u001b[0mbatch\u001b[0m\u001b[0;34m,\u001b[0m \u001b[0mcallback\u001b[0m\u001b[0;34m=\u001b[0m\u001b[0mcb\u001b[0m\u001b[0;34m)\u001b[0m\u001b[0;34m\u001b[0m\u001b[0m\n\u001b[0m\u001b[1;32m    572\u001b[0m         \u001b[0mself\u001b[0m\u001b[0;34m.\u001b[0m\u001b[0m_jobs\u001b[0m\u001b[0;34m.\u001b[0m\u001b[0mappend\u001b[0m\u001b[0;34m(\u001b[0m\u001b[0mjob\u001b[0m\u001b[0;34m)\u001b[0m\u001b[0;34m\u001b[0m\u001b[0m\n\u001b[1;32m    573\u001b[0m \u001b[0;34m\u001b[0m\u001b[0m\n",
      "\u001b[0;32m/Users/Henrilin28/.pyenv/versions/2.7.8/envs/virtual_2.7/lib/python2.7/site-packages/sklearn/externals/joblib/_parallel_backends.pyc\u001b[0m in \u001b[0;36mapply_async\u001b[0;34m(self, func, callback)\u001b[0m\n\u001b[1;32m    107\u001b[0m     \u001b[0;32mdef\u001b[0m \u001b[0mapply_async\u001b[0m\u001b[0;34m(\u001b[0m\u001b[0mself\u001b[0m\u001b[0;34m,\u001b[0m \u001b[0mfunc\u001b[0m\u001b[0;34m,\u001b[0m \u001b[0mcallback\u001b[0m\u001b[0;34m=\u001b[0m\u001b[0mNone\u001b[0m\u001b[0;34m)\u001b[0m\u001b[0;34m:\u001b[0m\u001b[0;34m\u001b[0m\u001b[0m\n\u001b[1;32m    108\u001b[0m         \u001b[0;34m\"\"\"Schedule a func to be run\"\"\"\u001b[0m\u001b[0;34m\u001b[0m\u001b[0m\n\u001b[0;32m--> 109\u001b[0;31m         \u001b[0mresult\u001b[0m \u001b[0;34m=\u001b[0m \u001b[0mImmediateResult\u001b[0m\u001b[0;34m(\u001b[0m\u001b[0mfunc\u001b[0m\u001b[0;34m)\u001b[0m\u001b[0;34m\u001b[0m\u001b[0m\n\u001b[0m\u001b[1;32m    110\u001b[0m         \u001b[0;32mif\u001b[0m \u001b[0mcallback\u001b[0m\u001b[0;34m:\u001b[0m\u001b[0;34m\u001b[0m\u001b[0m\n\u001b[1;32m    111\u001b[0m             \u001b[0mcallback\u001b[0m\u001b[0;34m(\u001b[0m\u001b[0mresult\u001b[0m\u001b[0;34m)\u001b[0m\u001b[0;34m\u001b[0m\u001b[0m\n",
      "\u001b[0;32m/Users/Henrilin28/.pyenv/versions/2.7.8/envs/virtual_2.7/lib/python2.7/site-packages/sklearn/externals/joblib/_parallel_backends.pyc\u001b[0m in \u001b[0;36m__init__\u001b[0;34m(self, batch)\u001b[0m\n\u001b[1;32m    320\u001b[0m         \u001b[0;31m# Don't delay the application, to avoid keeping the input\u001b[0m\u001b[0;34m\u001b[0m\u001b[0;34m\u001b[0m\u001b[0m\n\u001b[1;32m    321\u001b[0m         \u001b[0;31m# arguments in memory\u001b[0m\u001b[0;34m\u001b[0m\u001b[0;34m\u001b[0m\u001b[0m\n\u001b[0;32m--> 322\u001b[0;31m         \u001b[0mself\u001b[0m\u001b[0;34m.\u001b[0m\u001b[0mresults\u001b[0m \u001b[0;34m=\u001b[0m \u001b[0mbatch\u001b[0m\u001b[0;34m(\u001b[0m\u001b[0;34m)\u001b[0m\u001b[0;34m\u001b[0m\u001b[0m\n\u001b[0m\u001b[1;32m    323\u001b[0m \u001b[0;34m\u001b[0m\u001b[0m\n\u001b[1;32m    324\u001b[0m     \u001b[0;32mdef\u001b[0m \u001b[0mget\u001b[0m\u001b[0;34m(\u001b[0m\u001b[0mself\u001b[0m\u001b[0;34m)\u001b[0m\u001b[0;34m:\u001b[0m\u001b[0;34m\u001b[0m\u001b[0m\n",
      "\u001b[0;32m/Users/Henrilin28/.pyenv/versions/2.7.8/envs/virtual_2.7/lib/python2.7/site-packages/sklearn/externals/joblib/parallel.pyc\u001b[0m in \u001b[0;36m__call__\u001b[0;34m(self)\u001b[0m\n\u001b[1;32m    129\u001b[0m \u001b[0;34m\u001b[0m\u001b[0m\n\u001b[1;32m    130\u001b[0m     \u001b[0;32mdef\u001b[0m \u001b[0m__call__\u001b[0m\u001b[0;34m(\u001b[0m\u001b[0mself\u001b[0m\u001b[0;34m)\u001b[0m\u001b[0;34m:\u001b[0m\u001b[0;34m\u001b[0m\u001b[0m\n\u001b[0;32m--> 131\u001b[0;31m         \u001b[0;32mreturn\u001b[0m \u001b[0;34m[\u001b[0m\u001b[0mfunc\u001b[0m\u001b[0;34m(\u001b[0m\u001b[0;34m*\u001b[0m\u001b[0margs\u001b[0m\u001b[0;34m,\u001b[0m \u001b[0;34m**\u001b[0m\u001b[0mkwargs\u001b[0m\u001b[0;34m)\u001b[0m \u001b[0;32mfor\u001b[0m \u001b[0mfunc\u001b[0m\u001b[0;34m,\u001b[0m \u001b[0margs\u001b[0m\u001b[0;34m,\u001b[0m \u001b[0mkwargs\u001b[0m \u001b[0;32min\u001b[0m \u001b[0mself\u001b[0m\u001b[0;34m.\u001b[0m\u001b[0mitems\u001b[0m\u001b[0;34m]\u001b[0m\u001b[0;34m\u001b[0m\u001b[0m\n\u001b[0m\u001b[1;32m    132\u001b[0m \u001b[0;34m\u001b[0m\u001b[0m\n\u001b[1;32m    133\u001b[0m     \u001b[0;32mdef\u001b[0m \u001b[0m__len__\u001b[0m\u001b[0;34m(\u001b[0m\u001b[0mself\u001b[0m\u001b[0;34m)\u001b[0m\u001b[0;34m:\u001b[0m\u001b[0;34m\u001b[0m\u001b[0m\n",
      "\u001b[0;32m/Users/Henrilin28/.pyenv/versions/2.7.8/envs/virtual_2.7/lib/python2.7/site-packages/sklearn/cross_validation.pyc\u001b[0m in \u001b[0;36m_fit_and_score\u001b[0;34m(estimator, X, y, scorer, train, test, verbose, parameters, fit_params, return_train_score, return_parameters, error_score)\u001b[0m\n\u001b[1;32m   1600\u001b[0m \u001b[0;34m\u001b[0m\u001b[0m\n\u001b[1;32m   1601\u001b[0m     \u001b[0;32mif\u001b[0m \u001b[0mparameters\u001b[0m \u001b[0;32mis\u001b[0m \u001b[0;32mnot\u001b[0m \u001b[0mNone\u001b[0m\u001b[0;34m:\u001b[0m\u001b[0;34m\u001b[0m\u001b[0m\n\u001b[0;32m-> 1602\u001b[0;31m         \u001b[0mestimator\u001b[0m\u001b[0;34m.\u001b[0m\u001b[0mset_params\u001b[0m\u001b[0;34m(\u001b[0m\u001b[0;34m**\u001b[0m\u001b[0mparameters\u001b[0m\u001b[0;34m)\u001b[0m\u001b[0;34m\u001b[0m\u001b[0m\n\u001b[0m\u001b[1;32m   1603\u001b[0m \u001b[0;34m\u001b[0m\u001b[0m\n\u001b[1;32m   1604\u001b[0m     \u001b[0mstart_time\u001b[0m \u001b[0;34m=\u001b[0m \u001b[0mtime\u001b[0m\u001b[0;34m.\u001b[0m\u001b[0mtime\u001b[0m\u001b[0;34m(\u001b[0m\u001b[0;34m)\u001b[0m\u001b[0;34m\u001b[0m\u001b[0m\n",
      "\u001b[0;32m/Users/Henrilin28/.pyenv/versions/2.7.8/envs/virtual_2.7/lib/python2.7/site-packages/sklearn/pipeline.pyc\u001b[0m in \u001b[0;36mset_params\u001b[0;34m(self, **kwargs)\u001b[0m\n\u001b[1;32m    178\u001b[0m         \u001b[0mself\u001b[0m\u001b[0;34m\u001b[0m\u001b[0m\n\u001b[1;32m    179\u001b[0m         \"\"\"\n\u001b[0;32m--> 180\u001b[0;31m         \u001b[0mself\u001b[0m\u001b[0;34m.\u001b[0m\u001b[0m_set_params\u001b[0m\u001b[0;34m(\u001b[0m\u001b[0;34m'steps'\u001b[0m\u001b[0;34m,\u001b[0m \u001b[0;34m**\u001b[0m\u001b[0mkwargs\u001b[0m\u001b[0;34m)\u001b[0m\u001b[0;34m\u001b[0m\u001b[0m\n\u001b[0m\u001b[1;32m    181\u001b[0m         \u001b[0;32mreturn\u001b[0m \u001b[0mself\u001b[0m\u001b[0;34m\u001b[0m\u001b[0m\n\u001b[1;32m    182\u001b[0m \u001b[0;34m\u001b[0m\u001b[0m\n",
      "\u001b[0;32m/Users/Henrilin28/.pyenv/versions/2.7.8/envs/virtual_2.7/lib/python2.7/site-packages/sklearn/pipeline.pyc\u001b[0m in \u001b[0;36m_set_params\u001b[0;34m(self, steps_attr, **params)\u001b[0m\n\u001b[1;32m     67\u001b[0m                 \u001b[0mself\u001b[0m\u001b[0;34m.\u001b[0m\u001b[0m_replace_step\u001b[0m\u001b[0;34m(\u001b[0m\u001b[0msteps_attr\u001b[0m\u001b[0;34m,\u001b[0m \u001b[0mname\u001b[0m\u001b[0;34m,\u001b[0m \u001b[0mparams\u001b[0m\u001b[0;34m.\u001b[0m\u001b[0mpop\u001b[0m\u001b[0;34m(\u001b[0m\u001b[0mname\u001b[0m\u001b[0;34m)\u001b[0m\u001b[0;34m)\u001b[0m\u001b[0;34m\u001b[0m\u001b[0m\n\u001b[1;32m     68\u001b[0m         \u001b[0;31m# 3. Step parameters and other initilisation arguments\u001b[0m\u001b[0;34m\u001b[0m\u001b[0;34m\u001b[0m\u001b[0m\n\u001b[0;32m---> 69\u001b[0;31m         \u001b[0msuper\u001b[0m\u001b[0;34m(\u001b[0m\u001b[0m_BasePipeline\u001b[0m\u001b[0;34m,\u001b[0m \u001b[0mself\u001b[0m\u001b[0;34m)\u001b[0m\u001b[0;34m.\u001b[0m\u001b[0mset_params\u001b[0m\u001b[0;34m(\u001b[0m\u001b[0;34m**\u001b[0m\u001b[0mparams\u001b[0m\u001b[0;34m)\u001b[0m\u001b[0;34m\u001b[0m\u001b[0m\n\u001b[0m\u001b[1;32m     70\u001b[0m         \u001b[0;32mreturn\u001b[0m \u001b[0mself\u001b[0m\u001b[0;34m\u001b[0m\u001b[0m\n\u001b[1;32m     71\u001b[0m \u001b[0;34m\u001b[0m\u001b[0m\n",
      "\u001b[0;32m/Users/Henrilin28/.pyenv/versions/2.7.8/envs/virtual_2.7/lib/python2.7/site-packages/sklearn/base.pyc\u001b[0m in \u001b[0;36mset_params\u001b[0;34m(self, **params)\u001b[0m\n\u001b[1;32m    280\u001b[0m                                      \u001b[0;34m'Check the list of available parameters '\u001b[0m\u001b[0;34m\u001b[0m\u001b[0m\n\u001b[1;32m    281\u001b[0m                                      \u001b[0;34m'with `estimator.get_params().keys()`.'\u001b[0m \u001b[0;34m%\u001b[0m\u001b[0;34m\u001b[0m\u001b[0m\n\u001b[0;32m--> 282\u001b[0;31m                                      (name, self))\n\u001b[0m\u001b[1;32m    283\u001b[0m                 \u001b[0msub_object\u001b[0m \u001b[0;34m=\u001b[0m \u001b[0mvalid_params\u001b[0m\u001b[0;34m[\u001b[0m\u001b[0mname\u001b[0m\u001b[0;34m]\u001b[0m\u001b[0;34m\u001b[0m\u001b[0m\n\u001b[1;32m    284\u001b[0m                 \u001b[0msub_object\u001b[0m\u001b[0;34m.\u001b[0m\u001b[0mset_params\u001b[0m\u001b[0;34m(\u001b[0m\u001b[0;34m**\u001b[0m\u001b[0;34m{\u001b[0m\u001b[0msub_name\u001b[0m\u001b[0;34m:\u001b[0m \u001b[0mvalue\u001b[0m\u001b[0;34m}\u001b[0m\u001b[0;34m)\u001b[0m\u001b[0;34m\u001b[0m\u001b[0m\n",
      "\u001b[0;31mValueError\u001b[0m: Invalid parameter random_forest for estimator Pipeline(steps=[('normalize', StandardScaler(copy=True, with_mean=True, with_std=True)), ('feature_selection', SelectKBest(k=10, score_func=<function f_classif at 0x114283500>)), ('randomforest', RandomForestClassifier(bootstrap=True, class_weight=None, criterion='gini',\n            max_depth=None, max_featu...ators=10, n_jobs=100, oob_score=False,\n            random_state=None, verbose=0, warm_start=False))]). Check the list of available parameters with `estimator.get_params().keys()`."
     ]
    }
   ],
   "source": [
    "import sklearn.grid_search\n",
    "\n",
    "\n",
    "parameters = dict(feature_selection__k=[10,100], \n",
    "              random_forest__n_estimators=[50, 100, 200],\n",
    "              random_forest__min_samples_split=[2, 3, 4, 5, 10])\n",
    "\n",
    "cv = sklearn.grid_search.GridSearchCV(pipeline, param_grid=parameters)\n",
    "\n",
    "cv.fit(X_train, y_train)\n",
    "y_predictions = cv.predict(X_test)\n",
    "report = sklearn.metrics.classification_report( y_test, y_predictions )"
   ]
  },
  {
   "cell_type": "code",
   "execution_count": 128,
   "metadata": {
    "collapsed": false
   },
   "outputs": [
    {
     "name": "stdout",
     "output_type": "stream",
     "text": [
      "             precision    recall  f1-score   support\n",
      "\n",
      "        0.0       0.90      0.98      0.94       638\n",
      "        1.0       0.50      0.12      0.19        17\n",
      "        3.0       0.39      0.12      0.18        60\n",
      "\n",
      "avg / total       0.85      0.89      0.86       715\n",
      "\n"
     ]
    }
   ],
   "source": [
    "print(report)"
   ]
  },
  {
   "cell_type": "code",
   "execution_count": null,
   "metadata": {
    "collapsed": true
   },
   "outputs": [],
   "source": [
    "da"
   ]
  },
  {
   "cell_type": "code",
   "execution_count": 201,
   "metadata": {
    "collapsed": false
   },
   "outputs": [
    {
     "name": "stderr",
     "output_type": "stream",
     "text": [
      "/Users/Henrilin28/.pyenv/versions/2.7.8/envs/virtual_2.7/lib/python2.7/site-packages/matplotlib/axes/_axes.py:531: UserWarning:\n",
      "\n",
      "No labelled objects found. Use label='...' kwarg on individual plots.\n",
      "\n"
     ]
    },
    {
     "data": {
      "image/png": "[encoded data removed]",
      "text/plain": [
       "<matplotlib.figure.Figure at 0x11ab73450>"
      ]
     },
     "metadata": {},
     "output_type": "display_data"
    }
   ],
   "source": [
    "import matplotlib.pyplot as plt\n",
    "from mpl_toolkits.mplot3d import Axes3D\n",
    "\n",
    "from matplotlib.mlab import PCA\n",
    "#construct your numpy array of data\n",
    "#data = \n",
    "data = agg.drop([\"hotcold\",\"Total_cap\",\"target\",\"BoroCT2010\"],axis=1).fillna(0)\n",
    "myData = np.array(data) \n",
    "result = PCA(myData) \n",
    "\n",
    "#this will return an array of variance percentages for each component\n",
    "result.fracs\n",
    "\n",
    "#this will return a 2d array of the data projected into PCA space\n",
    "result.Y \n",
    "\n",
    "\n",
    "\n",
    "\n",
    "x = []\n",
    "y = []\n",
    "z = []\n",
    "for item in result.Y:\n",
    "    x.append(item[0])\n",
    "    y.append(item[1])\n",
    "    z.append(item[2])\n",
    "\n",
    "plt.close('all') # close all latent plotting windows\n",
    "fig1 = plt.figure() # Make a plotting figure\n",
    "#ax = Axes3D(fig1) # use the plotting figure to create a Axis3D object.\n",
    "\n",
    "#pltData = [x,y,z] \n",
    "pltData = [x,y]\n",
    "#ax.scatter(pltData[0], pltData[1], pltData[2], 'o', c=agg[\"hotcold\"], ) # make a scatter plot of blue dots from the data\n",
    "plt.scatter(pltData[0], pltData[1],marker='o', c=agg[\"hotcold\"] ) # make a scatter plot of blue dots from the data\n",
    " \n",
    "# make simple, bare axis lines through space:\n",
    "# xAxisLine = ((min(pltData[0]), max(pltData[0])), (0, 0), (0,0)) # 2 points make the x-axis line at the data extrema along x-axis \n",
    "# ax.plot(xAxisLine[0], xAxisLine[1], xAxisLine[2], 'r') # make a red line for the x-axis.\n",
    "# yAxisLine = ((0, 0), (min(pltData[1]), max(pltData[1])), (0,0)) # 2 points make the y-axis line at the data extrema along y-axis\n",
    "# ax.plot(yAxisLine[0], yAxisLine[1], yAxisLine[2], 'g') # make a red line for the y-axis.\n",
    "# zAxisLine = ((0, 0), (0,0), (min(pltData[2]), max(pltData[2]))) # 2 points make the z-axis line at the data extrema along z-axis\n",
    "# ax.plot(zAxisLine[0], zAxisLine[1], zAxisLine[2], 'k') # make a red line for the z-axis.\n",
    " \n",
    "# label the axes \n",
    "plt.xlabel(\"PCA1\") \n",
    "plt.ylabel(\"PCA2\")\n",
    "# ax.set_zlabel(\"PCA3\")\n",
    "plt.title(\"The title of the plot\")\n",
    "plt.legend()\n",
    "plt.show() # show the plot"
   ]
  },
  {
   "cell_type": "code",
   "execution_count": 179,
   "metadata": {
    "collapsed": false
   },
   "outputs": [],
   "source": [
    "df6 = pd.DataFrame([x,y,z])"
   ]
  },
  {
   "cell_type": "code",
   "execution_count": 185,
   "metadata": {
    "collapsed": false
   },
   "outputs": [],
   "source": [
    "plot_df = df6.T\n",
    "\n",
    "plot_df[\"hot/cold\"] = agg[\"hotcold\"]\n",
    "plot_df[\"BoroCT2010\"] = agg[\"BoroCT2010\"]\n",
    "plot_df = plot_df.rename(columns={0:\"x\",1:\"y\",2:\"z\"})"
   ]
  },
  {
   "cell_type": "code",
   "execution_count": 186,
   "metadata": {
    "collapsed": false
   },
   "outputs": [
    {
     "name": "stdout",
     "output_type": "stream",
     "text": [
      "<class 'pandas.core.frame.DataFrame'>\n",
      "Int64Index: 1594 entries, 0 to 2165\n",
      "Data columns (total 5 columns):\n",
      "x             1594 non-null float64\n",
      "y             1594 non-null float64\n",
      "z             1594 non-null float64\n",
      "hot/cold      1594 non-null int64\n",
      "BoroCT2010    1594 non-null int64\n",
      "dtypes: float64(3), int64(2)\n",
      "memory usage: 74.7 KB\n",
      "None\n",
      "<class 'pandas.core.frame.DataFrame'>\n",
      "Int64Index: 93 entries, 4 to 2155\n",
      "Data columns (total 5 columns):\n",
      "x             93 non-null float64\n",
      "y             93 non-null float64\n",
      "z             93 non-null float64\n",
      "hot/cold      93 non-null int64\n",
      "BoroCT2010    93 non-null int64\n",
      "dtypes: float64(3), int64(2)\n",
      "memory usage: 4.4 KB\n",
      "None\n",
      "<class 'pandas.core.frame.DataFrame'>\n",
      "Int64Index: 50 entries, 2 to 2142\n",
      "Data columns (total 5 columns):\n",
      "x             50 non-null float64\n",
      "y             50 non-null float64\n",
      "z             50 non-null float64\n",
      "hot/cold      50 non-null int64\n",
      "BoroCT2010    50 non-null int64\n",
      "dtypes: float64(3), int64(2)\n",
      "memory usage: 2.3 KB\n",
      "None\n",
      "<class 'pandas.core.frame.DataFrame'>\n",
      "Int64Index: 260 entries, 61 to 2083\n",
      "Data columns (total 5 columns):\n",
      "x             260 non-null float64\n",
      "y             260 non-null float64\n",
      "z             260 non-null float64\n",
      "hot/cold      260 non-null int64\n",
      "BoroCT2010    260 non-null int64\n",
      "dtypes: float64(3), int64(2)\n",
      "memory usage: 12.2 KB\n",
      "None\n",
      "<class 'pandas.core.frame.DataFrame'>\n",
      "Int64Index: 169 entries, 1 to 2095\n",
      "Data columns (total 5 columns):\n",
      "x             169 non-null float64\n",
      "y             169 non-null float64\n",
      "z             169 non-null float64\n",
      "hot/cold      169 non-null int64\n",
      "BoroCT2010    169 non-null int64\n",
      "dtypes: float64(3), int64(2)\n",
      "memory usage: 7.9 KB\n",
      "None\n"
     ]
    }
   ],
   "source": [
    "for key,df in plot_df.groupby(\"hot/cold\"):\n",
    "    print df.info()"
   ]
  },
  {
   "cell_type": "code",
   "execution_count": 191,
   "metadata": {
    "collapsed": false
   },
   "outputs": [
    {
     "name": "stderr",
     "output_type": "stream",
     "text": [
      "/Users/Henrilin28/.pyenv/versions/2.7.8/envs/virtual_2.7/lib/python2.7/site-packages/requests/packages/urllib3/util/ssl_.py:132: InsecurePlatformWarning:\n",
      "\n",
      "A true SSLContext object is not available. This prevents urllib3 from configuring SSL appropriately and may cause certain SSL connections to fail. You can upgrade to a newer version of Python to solve this. For more information, see https://urllib3.readthedocs.io/en/latest/advanced-usage.html#ssl-warnings\n",
      "\n"
     ]
    },
    {
     "data": {
      "text/html": [
       "<iframe id=\"igraph\" scrolling=\"no\" style=\"border:none;\" seamless=\"seamless\" src=\"https://plot.ly/~Henrilin28/457.embed\" height=\"525px\" width=\"100%\"></iframe>"
      ],
      "text/plain": [
       "<plotly.tools.PlotlyDisplay object>"
      ]
     },
     "execution_count": 191,
     "metadata": {},
     "output_type": "execute_result"
    }
   ],
   "source": [
    "import plotly.plotly as py\n",
    "import plotly.graph_objs as go\n",
    "import numpy as np\n",
    "\n",
    "data = []\n",
    "for key, df in plot_df.groupby(\"hot/cold\"):\n",
    "    trace1 = go.Scatter3d(\n",
    "        x=df.x,\n",
    "        y=df.y,\n",
    "        z=df.z,\n",
    "        name = df[\"hot/cold\"],\n",
    "        text = df[\"BoroCT2010\"],\n",
    "        mode='markers',\n",
    "        marker=dict(\n",
    "            size=3,\n",
    "            color=df[\"hot/cold\"],                # set color to an array/list of desired values\n",
    "            colorscale='Viridis',   # choose a colorscale\n",
    "            opacity=0.8\n",
    "        )\n",
    "    )\n",
    "    data.append(trace1)\n",
    "#data = [trace1]\n",
    "layout = go.Layout(\n",
    "    margin=dict(\n",
    "        l=0,\n",
    "        r=0,\n",
    "        b=0,\n",
    "        t=0\n",
    "    ),\n",
    "    title=\"Hot Cold Spot PCA Result\"\n",
    ")\n",
    "fig = go.Figure(data=data, layout=layout)\n",
    "py.iplot(fig, filename='3d-scatter-colorscale')"
   ]
  },
  {
   "cell_type": "code",
   "execution_count": 166,
   "metadata": {
    "collapsed": false
   },
   "outputs": [
    {
     "data": {
      "text/html": [
       "<div>\n",
       "<table border=\"1\" class=\"dataframe\">\n",
       "  <thead>\n",
       "    <tr style=\"text-align: right;\">\n",
       "      <th></th>\n",
       "      <th>x</th>\n",
       "      <th>y</th>\n",
       "      <th>z</th>\n",
       "    </tr>\n",
       "  </thead>\n",
       "  <tbody>\n",
       "    <tr>\n",
       "      <th>0</th>\n",
       "      <td>-5.933556</td>\n",
       "      <td>-6.659582</td>\n",
       "      <td>-2.337235</td>\n",
       "    </tr>\n",
       "    <tr>\n",
       "      <th>1</th>\n",
       "      <td>-5.699621</td>\n",
       "      <td>-5.089488</td>\n",
       "      <td>-2.206949</td>\n",
       "    </tr>\n",
       "    <tr>\n",
       "      <th>2</th>\n",
       "      <td>-5.650399</td>\n",
       "      <td>-4.378679</td>\n",
       "      <td>-2.672846</td>\n",
       "    </tr>\n",
       "    <tr>\n",
       "      <th>3</th>\n",
       "      <td>-5.526566</td>\n",
       "      <td>-5.295158</td>\n",
       "      <td>-1.849260</td>\n",
       "    </tr>\n",
       "    <tr>\n",
       "      <th>4</th>\n",
       "      <td>-6.368754</td>\n",
       "      <td>-5.650205</td>\n",
       "      <td>-1.165898</td>\n",
       "    </tr>\n",
       "  </tbody>\n",
       "</table>\n",
       "</div>"
      ],
      "text/plain": [
       "          x         y         z\n",
       "0 -5.933556 -6.659582 -2.337235\n",
       "1 -5.699621 -5.089488 -2.206949\n",
       "2 -5.650399 -4.378679 -2.672846\n",
       "3 -5.526566 -5.295158 -1.849260\n",
       "4 -6.368754 -5.650205 -1.165898"
      ]
     },
     "execution_count": 166,
     "metadata": {},
     "output_type": "execute_result"
    }
   ],
   "source": [
    "df = pd.read_csv('https://raw.githubusercontent.com/plotly/datasets/master/alpha_shape.csv')\n",
    "df.head()\n"
   ]
  },
  {
   "cell_type": "code",
   "execution_count": 168,
   "metadata": {
    "collapsed": false
   },
   "outputs": [
    {
     "name": "stderr",
     "output_type": "stream",
     "text": [
      "/Users/Henrilin28/.pyenv/versions/2.7.8/envs/virtual_2.7/lib/python2.7/site-packages/requests/packages/urllib3/util/ssl_.py:132: InsecurePlatformWarning:\n",
      "\n",
      "A true SSLContext object is not available. This prevents urllib3 from configuring SSL appropriately and may cause certain SSL connections to fail. You can upgrade to a newer version of Python to solve this. For more information, see https://urllib3.readthedocs.io/en/latest/advanced-usage.html#ssl-warnings\n",
      "\n"
     ]
    },
    {
     "data": {
      "text/html": [
       "<iframe id=\"igraph\" scrolling=\"no\" style=\"border:none;\" seamless=\"seamless\" src=\"https://plot.ly/~Henrilin28/459.embed\" height=\"525px\" width=\"100%\"></iframe>"
      ],
      "text/plain": [
       "<plotly.tools.PlotlyDisplay object>"
      ]
     },
     "execution_count": 168,
     "metadata": {},
     "output_type": "execute_result"
    }
   ],
   "source": [
    "import plotly.plotly as py\n",
    "import pandas as pd\n",
    "\n",
    "#df = pd.read_csv('https://raw.githubusercontent.com/plotly/datasets/master/alpha_shape.csv')\n",
    "#df.head()\n",
    "\n",
    "scatter = dict(\n",
    "    mode = \"markers\",\n",
    "    name = agg[\"BoroCT2010\"],\n",
    "    type = \"scatter3d\",    \n",
    "    x = x, y = y, z = z,\n",
    "    marker = dict( size=2, color=\"rgb(23, 190, 207)\" )\n",
    ")\n",
    "clusters = dict(\n",
    "    alphahull = 7,\n",
    "    name = agg[\"BoroCT2010\"],\n",
    "    opacity = 0.1,\n",
    "    type = \"mesh3d\",    \n",
    "    x = x, y = y, z = z\n",
    ")\n",
    "layout = dict(\n",
    "    title = '3d point clustering',\n",
    "    scene = dict(\n",
    "        xaxis = dict( zeroline=False ),\n",
    "        yaxis = dict( zeroline=False ),\n",
    "        zaxis = dict( zeroline=False ),\n",
    "    )\n",
    ")\n",
    "fig = dict( data=[scatter, clusters], layout=layout )\n",
    "# Use py.iplot() for IPython notebook\n",
    "py.iplot(fig, filename='3d point clustering')"
   ]
  },
  {
   "cell_type": "code",
   "execution_count": 229,
   "metadata": {
    "collapsed": false
   },
   "outputs": [
    {
     "data": {
      "image/png": "[encoded data removed]",
      "text/plain": [
       "<matplotlib.figure.Figure at 0x118503cd0>"
      ]
     },
     "metadata": {},
     "output_type": "display_data"
    }
   ],
   "source": [
    "from sklearn.preprocessing import StandardScaler\n",
    "X_std = StandardScaler().fit_transform(X)\n",
    "pca = PCA(n_components=100).fit(X_std)\n",
    "plt.plot(np.cumsum(pca.explained_variance_ratio_))\n",
    "plt.xlabel('number of components')\n",
    "plt.ylabel('cumulative explained variance')\n",
    "plt.show()"
   ]
  },
  {
   "cell_type": "code",
   "execution_count": 222,
   "metadata": {
    "collapsed": false
   },
   "outputs": [
    {
     "data": {
      "text/plain": [
       "(array([ 19.,   0.,   0.,   0.,   0.,   0.,   0.,   0.,   0.,   1.]),\n",
       " array([  1.27038267e-10,   9.99062403e-02,   1.99812481e-01,\n",
       "          2.99718721e-01,   3.99624961e-01,   4.99531201e-01,\n",
       "          5.99437441e-01,   6.99343681e-01,   7.99249922e-01,\n",
       "          8.99156162e-01,   9.99062402e-01]),\n",
       " <a list of 10 Patch objects>)"
      ]
     },
     "execution_count": 222,
     "metadata": {},
     "output_type": "execute_result"
    },
    {
     "data": {
      "image/png": "[encoded data removed]",
      "text/plain": [
       "<matplotlib.figure.Figure at 0x11ab9a7d0>"
      ]
     },
     "metadata": {},
     "output_type": "display_data"
    }
   ],
   "source": [
    "plt.hist(pca.explained_variance_ratio_ )"
   ]
  },
  {
   "cell_type": "code",
   "execution_count": null,
   "metadata": {
    "collapsed": true
   },
   "outputs": [],
   "source": []
  }
 ],
 "metadata": {
  "kernelspec": {
   "display_name": "Python 2",
   "language": "python",
   "name": "python2"
  },
  "language_info": {
   "codemirror_mode": {
    "name": "ipython",
    "version": 2
   },
   "file_extension": ".py",
   "mimetype": "text/x-python",
   "name": "python",
   "nbconvert_exporter": "python",
   "pygments_lexer": "ipython2",
   "version": "2.7.8"
  }
 },
 "nbformat": 4,
 "nbformat_minor": 1
}
